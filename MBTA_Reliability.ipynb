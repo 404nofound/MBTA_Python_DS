{
 "cells": [
  {
   "cell_type": "code",
   "execution_count": 1,
   "metadata": {},
   "outputs": [],
   "source": [
    "import os\n",
    "import glob\n",
    "\n",
    "import pandas as pd\n",
    "import numpy  as np\n",
    "import seaborn as sns\n",
    "import matplotlib.pyplot as plt\n",
    "\n",
    "from fbprophet import Prophet\n",
    "from pandas.tseries.holiday import USFederalHolidayCalendar\n",
    "\n",
    "from sklearn import metrics\n",
    "from sklearn.model_selection import train_test_split\n",
    "from sklearn.metrics import mean_squared_error, r2_score, scorer\n",
    "\n",
    "from sklearn import preprocessing\n",
    "\n",
    "from sklearn.linear_model import LinearRegression\n",
    "from sklearn.linear_model import LogisticRegression\n",
    "\n",
    "from sklearn.pipeline import Pipeline\n",
    "from sklearn.preprocessing import StandardScaler\n",
    "from sklearn.decomposition import PCA\n",
    "\n",
    "from sklearn.naive_bayes import GaussianNB\n",
    "from sklearn.svm import SVC\n",
    "from sklearn.tree import DecisionTreeClassifier\n",
    "\n",
    "from sklearn.cluster import KMeans\n",
    "\n",
    "# Please modifty file path firstly\n",
    "file_path = '/Users/Eddy/Desktop/MBTA/'"
   ]
  },
  {
   "cell_type": "markdown",
   "metadata": {},
   "source": [
    "#### Merge CSV files from MBTA Website"
   ]
  },
  {
   "cell_type": "code",
   "execution_count": 2,
   "metadata": {},
   "outputs": [
    {
     "data": {
      "text/html": [
       "<div>\n",
       "<style scoped>\n",
       "    .dataframe tbody tr th:only-of-type {\n",
       "        vertical-align: middle;\n",
       "    }\n",
       "\n",
       "    .dataframe tbody tr th {\n",
       "        vertical-align: top;\n",
       "    }\n",
       "\n",
       "    .dataframe thead th {\n",
       "        text-align: right;\n",
       "    }\n",
       "</style>\n",
       "<table border=\"1\" class=\"dataframe\">\n",
       "  <thead>\n",
       "    <tr style=\"text-align: right;\">\n",
       "      <th></th>\n",
       "      <th>gtfs_route_id</th>\n",
       "      <th>mode_type</th>\n",
       "      <th>peak_offpeak_ind</th>\n",
       "      <th>otp_numerator</th>\n",
       "      <th>otp_denominator</th>\n",
       "      <th>cancelled_numerator</th>\n",
       "    </tr>\n",
       "    <tr>\n",
       "      <th>service_date</th>\n",
       "      <th></th>\n",
       "      <th></th>\n",
       "      <th></th>\n",
       "      <th></th>\n",
       "      <th></th>\n",
       "      <th></th>\n",
       "    </tr>\n",
       "  </thead>\n",
       "  <tbody>\n",
       "    <tr>\n",
       "      <th>2015-01-01</th>\n",
       "      <td>741</td>\n",
       "      <td>Bus</td>\n",
       "      <td>OFF_PEAK</td>\n",
       "      <td>1127.0</td>\n",
       "      <td>1301.0</td>\n",
       "      <td>NaN</td>\n",
       "    </tr>\n",
       "    <tr>\n",
       "      <th>2015-01-01</th>\n",
       "      <td>742</td>\n",
       "      <td>Bus</td>\n",
       "      <td>OFF_PEAK</td>\n",
       "      <td>615.0</td>\n",
       "      <td>804.0</td>\n",
       "      <td>NaN</td>\n",
       "    </tr>\n",
       "    <tr>\n",
       "      <th>2015-01-01</th>\n",
       "      <td>751</td>\n",
       "      <td>Bus</td>\n",
       "      <td>OFF_PEAK</td>\n",
       "      <td>1329.0</td>\n",
       "      <td>1570.0</td>\n",
       "      <td>NaN</td>\n",
       "    </tr>\n",
       "    <tr>\n",
       "      <th>2015-01-01</th>\n",
       "      <td>749</td>\n",
       "      <td>Bus</td>\n",
       "      <td>OFF_PEAK</td>\n",
       "      <td>2848.0</td>\n",
       "      <td>3113.0</td>\n",
       "      <td>NaN</td>\n",
       "    </tr>\n",
       "    <tr>\n",
       "      <th>2015-01-01</th>\n",
       "      <td>CR-Fairmount</td>\n",
       "      <td>Commuter Rail</td>\n",
       "      <td>PEAK</td>\n",
       "      <td>0.0</td>\n",
       "      <td>0.0</td>\n",
       "      <td>0.0</td>\n",
       "    </tr>\n",
       "    <tr>\n",
       "      <th>2015-01-01</th>\n",
       "      <td>CR-Fairmount</td>\n",
       "      <td>Commuter Rail</td>\n",
       "      <td>OFF_PEAK</td>\n",
       "      <td>33.0</td>\n",
       "      <td>34.0</td>\n",
       "      <td>0.0</td>\n",
       "    </tr>\n",
       "    <tr>\n",
       "      <th>2015-01-01</th>\n",
       "      <td>CR-Fitchburg</td>\n",
       "      <td>Commuter Rail</td>\n",
       "      <td>PEAK</td>\n",
       "      <td>0.0</td>\n",
       "      <td>0.0</td>\n",
       "      <td>0.0</td>\n",
       "    </tr>\n",
       "    <tr>\n",
       "      <th>2015-01-01</th>\n",
       "      <td>CR-Fitchburg</td>\n",
       "      <td>Commuter Rail</td>\n",
       "      <td>OFF_PEAK</td>\n",
       "      <td>15.0</td>\n",
       "      <td>16.0</td>\n",
       "      <td>0.0</td>\n",
       "    </tr>\n",
       "    <tr>\n",
       "      <th>2015-01-01</th>\n",
       "      <td>CR-Worcester</td>\n",
       "      <td>Commuter Rail</td>\n",
       "      <td>OFF_PEAK</td>\n",
       "      <td>18.0</td>\n",
       "      <td>18.0</td>\n",
       "      <td>0.0</td>\n",
       "    </tr>\n",
       "    <tr>\n",
       "      <th>2015-01-01</th>\n",
       "      <td>CR-Worcester</td>\n",
       "      <td>Commuter Rail</td>\n",
       "      <td>PEAK</td>\n",
       "      <td>0.0</td>\n",
       "      <td>0.0</td>\n",
       "      <td>0.0</td>\n",
       "    </tr>\n",
       "  </tbody>\n",
       "</table>\n",
       "</div>"
      ],
      "text/plain": [
       "             gtfs_route_id      mode_type peak_offpeak_ind  otp_numerator  \\\n",
       "service_date                                                                \n",
       "2015-01-01             741            Bus         OFF_PEAK         1127.0   \n",
       "2015-01-01             742            Bus         OFF_PEAK          615.0   \n",
       "2015-01-01             751            Bus         OFF_PEAK         1329.0   \n",
       "2015-01-01             749            Bus         OFF_PEAK         2848.0   \n",
       "2015-01-01    CR-Fairmount  Commuter Rail             PEAK            0.0   \n",
       "2015-01-01    CR-Fairmount  Commuter Rail         OFF_PEAK           33.0   \n",
       "2015-01-01    CR-Fitchburg  Commuter Rail             PEAK            0.0   \n",
       "2015-01-01    CR-Fitchburg  Commuter Rail         OFF_PEAK           15.0   \n",
       "2015-01-01    CR-Worcester  Commuter Rail         OFF_PEAK           18.0   \n",
       "2015-01-01    CR-Worcester  Commuter Rail             PEAK            0.0   \n",
       "\n",
       "              otp_denominator  cancelled_numerator  \n",
       "service_date                                        \n",
       "2015-01-01             1301.0                  NaN  \n",
       "2015-01-01              804.0                  NaN  \n",
       "2015-01-01             1570.0                  NaN  \n",
       "2015-01-01             3113.0                  NaN  \n",
       "2015-01-01                0.0                  0.0  \n",
       "2015-01-01               34.0                  0.0  \n",
       "2015-01-01                0.0                  0.0  \n",
       "2015-01-01               16.0                  0.0  \n",
       "2015-01-01               18.0                  0.0  \n",
       "2015-01-01                0.0                  0.0  "
      ]
     },
     "execution_count": 2,
     "metadata": {},
     "output_type": "execute_result"
    }
   ],
   "source": [
    "# Merge files\n",
    "if os.path.exists(file_path + 'data.csv')  == False:\n",
    "    for inputfile in glob.glob(file_path + '*.csv'):\n",
    "        a = pd.read_csv(inputfile, header=None, low_memory=False)\n",
    "        a.to_csv(file_path + 'data.csv', mode='a',index=False,header=False)\n",
    "\n",
    "# Read csv files\n",
    "raw = pd.read_csv(file_path + 'data.csv', index_col='service_date', parse_dates=True)\n",
    "\n",
    "# Drop useless columns\n",
    "raw.drop(['gtfs_route_short_name', 'gtfs_route_long_name', 'gtfs_route_desc',\n",
    "          'route_category', 'metric_type'], axis=1, inplace=True)\n",
    "raw.head(10)"
   ]
  },
  {
   "cell_type": "markdown",
   "metadata": {},
   "source": [
    "#### Delete Error Data & Calculate Reliability Percent"
   ]
  },
  {
   "cell_type": "code",
   "execution_count": 3,
   "metadata": {
    "scrolled": false
   },
   "outputs": [
    {
     "data": {
      "text/html": [
       "<div>\n",
       "<style scoped>\n",
       "    .dataframe tbody tr th:only-of-type {\n",
       "        vertical-align: middle;\n",
       "    }\n",
       "\n",
       "    .dataframe tbody tr th {\n",
       "        vertical-align: top;\n",
       "    }\n",
       "\n",
       "    .dataframe thead th {\n",
       "        text-align: right;\n",
       "    }\n",
       "</style>\n",
       "<table border=\"1\" class=\"dataframe\">\n",
       "  <thead>\n",
       "    <tr style=\"text-align: right;\">\n",
       "      <th></th>\n",
       "      <th>gtfs_route_id</th>\n",
       "      <th>mode_type</th>\n",
       "      <th>peak_offpeak_ind</th>\n",
       "      <th>otp_numerator</th>\n",
       "      <th>otp_denominator</th>\n",
       "      <th>cancelled_numerator</th>\n",
       "      <th>reliability</th>\n",
       "    </tr>\n",
       "    <tr>\n",
       "      <th>service_date</th>\n",
       "      <th></th>\n",
       "      <th></th>\n",
       "      <th></th>\n",
       "      <th></th>\n",
       "      <th></th>\n",
       "      <th></th>\n",
       "      <th></th>\n",
       "    </tr>\n",
       "  </thead>\n",
       "  <tbody>\n",
       "    <tr>\n",
       "      <th>2015-01-01</th>\n",
       "      <td>741</td>\n",
       "      <td>Bus</td>\n",
       "      <td>OFF_PEAK</td>\n",
       "      <td>1127.0</td>\n",
       "      <td>1301.0</td>\n",
       "      <td>NaN</td>\n",
       "      <td>86.625673</td>\n",
       "    </tr>\n",
       "    <tr>\n",
       "      <th>2015-01-01</th>\n",
       "      <td>742</td>\n",
       "      <td>Bus</td>\n",
       "      <td>OFF_PEAK</td>\n",
       "      <td>615.0</td>\n",
       "      <td>804.0</td>\n",
       "      <td>NaN</td>\n",
       "      <td>76.492537</td>\n",
       "    </tr>\n",
       "    <tr>\n",
       "      <th>2015-01-01</th>\n",
       "      <td>751</td>\n",
       "      <td>Bus</td>\n",
       "      <td>OFF_PEAK</td>\n",
       "      <td>1329.0</td>\n",
       "      <td>1570.0</td>\n",
       "      <td>NaN</td>\n",
       "      <td>84.649682</td>\n",
       "    </tr>\n",
       "    <tr>\n",
       "      <th>2015-01-01</th>\n",
       "      <td>749</td>\n",
       "      <td>Bus</td>\n",
       "      <td>OFF_PEAK</td>\n",
       "      <td>2848.0</td>\n",
       "      <td>3113.0</td>\n",
       "      <td>NaN</td>\n",
       "      <td>91.487311</td>\n",
       "    </tr>\n",
       "    <tr>\n",
       "      <th>2015-01-01</th>\n",
       "      <td>CR-Fairmount</td>\n",
       "      <td>Commuter Rail</td>\n",
       "      <td>OFF_PEAK</td>\n",
       "      <td>33.0</td>\n",
       "      <td>34.0</td>\n",
       "      <td>0.0</td>\n",
       "      <td>97.058824</td>\n",
       "    </tr>\n",
       "  </tbody>\n",
       "</table>\n",
       "</div>"
      ],
      "text/plain": [
       "             gtfs_route_id      mode_type peak_offpeak_ind  otp_numerator  \\\n",
       "service_date                                                                \n",
       "2015-01-01             741            Bus         OFF_PEAK         1127.0   \n",
       "2015-01-01             742            Bus         OFF_PEAK          615.0   \n",
       "2015-01-01             751            Bus         OFF_PEAK         1329.0   \n",
       "2015-01-01             749            Bus         OFF_PEAK         2848.0   \n",
       "2015-01-01    CR-Fairmount  Commuter Rail         OFF_PEAK           33.0   \n",
       "\n",
       "              otp_denominator  cancelled_numerator  reliability  \n",
       "service_date                                                     \n",
       "2015-01-01             1301.0                  NaN    86.625673  \n",
       "2015-01-01              804.0                  NaN    76.492537  \n",
       "2015-01-01             1570.0                  NaN    84.649682  \n",
       "2015-01-01             3113.0                  NaN    91.487311  \n",
       "2015-01-01               34.0                  0.0    97.058824  "
      ]
     },
     "execution_count": 3,
     "metadata": {},
     "output_type": "execute_result"
    }
   ],
   "source": [
    "# numerator & denominator = 0 means no data record today\n",
    "raw = raw[raw.otp_numerator > 0]\n",
    "raw = raw[raw.otp_denominator > 0]\n",
    "\n",
    "# calculate the reliability\n",
    "raw['reliability'] = 100 * (raw['otp_numerator'] / raw['otp_denominator'])\n",
    "raw.head()"
   ]
  },
  {
   "cell_type": "markdown",
   "metadata": {},
   "source": [
    "#### Green-B Line Reliability Comparison (Peak / Off-Peak)"
   ]
  },
  {
   "cell_type": "code",
   "execution_count": 4,
   "metadata": {},
   "outputs": [
    {
     "data": {
      "text/html": [
       "<div>\n",
       "<style scoped>\n",
       "    .dataframe tbody tr th:only-of-type {\n",
       "        vertical-align: middle;\n",
       "    }\n",
       "\n",
       "    .dataframe tbody tr th {\n",
       "        vertical-align: top;\n",
       "    }\n",
       "\n",
       "    .dataframe thead th {\n",
       "        text-align: right;\n",
       "    }\n",
       "</style>\n",
       "<table border=\"1\" class=\"dataframe\">\n",
       "  <thead>\n",
       "    <tr style=\"text-align: right;\">\n",
       "      <th></th>\n",
       "      <th>peak_offpeak_ind</th>\n",
       "      <th>reliability</th>\n",
       "    </tr>\n",
       "    <tr>\n",
       "      <th>service_date</th>\n",
       "      <th></th>\n",
       "      <th></th>\n",
       "    </tr>\n",
       "  </thead>\n",
       "  <tbody>\n",
       "    <tr>\n",
       "      <th>2018-01-01</th>\n",
       "      <td>PEAK</td>\n",
       "      <td>75.991399</td>\n",
       "    </tr>\n",
       "    <tr>\n",
       "      <th>2018-01-01</th>\n",
       "      <td>OFF_PEAK</td>\n",
       "      <td>66.641052</td>\n",
       "    </tr>\n",
       "    <tr>\n",
       "      <th>2018-01-02</th>\n",
       "      <td>PEAK</td>\n",
       "      <td>72.127594</td>\n",
       "    </tr>\n",
       "    <tr>\n",
       "      <th>2018-01-02</th>\n",
       "      <td>OFF_PEAK</td>\n",
       "      <td>75.499145</td>\n",
       "    </tr>\n",
       "    <tr>\n",
       "      <th>2018-01-03</th>\n",
       "      <td>OFF_PEAK</td>\n",
       "      <td>73.632415</td>\n",
       "    </tr>\n",
       "  </tbody>\n",
       "</table>\n",
       "</div>"
      ],
      "text/plain": [
       "             peak_offpeak_ind  reliability\n",
       "service_date                              \n",
       "2018-01-01               PEAK    75.991399\n",
       "2018-01-01           OFF_PEAK    66.641052\n",
       "2018-01-02               PEAK    72.127594\n",
       "2018-01-02           OFF_PEAK    75.499145\n",
       "2018-01-03           OFF_PEAK    73.632415"
      ]
     },
     "execution_count": 4,
     "metadata": {},
     "output_type": "execute_result"
    }
   ],
   "source": [
    "# Using Green-B line for example\n",
    "greenb = raw[raw.gtfs_route_id=='Green-B']\n",
    "greenb = greenb[['peak_offpeak_ind', 'reliability']]\n",
    "greenb.sort_index(inplace=True)\n",
    "greenb.head()"
   ]
  },
  {
   "cell_type": "code",
   "execution_count": 5,
   "metadata": {
    "scrolled": false
   },
   "outputs": [
    {
     "data": {
      "text/html": [
       "<div>\n",
       "<style scoped>\n",
       "    .dataframe tbody tr th:only-of-type {\n",
       "        vertical-align: middle;\n",
       "    }\n",
       "\n",
       "    .dataframe tbody tr th {\n",
       "        vertical-align: top;\n",
       "    }\n",
       "\n",
       "    .dataframe thead th {\n",
       "        text-align: right;\n",
       "    }\n",
       "</style>\n",
       "<table border=\"1\" class=\"dataframe\">\n",
       "  <thead>\n",
       "    <tr style=\"text-align: right;\">\n",
       "      <th>peak_offpeak_ind</th>\n",
       "      <th>OFF_PEAK</th>\n",
       "      <th>PEAK</th>\n",
       "    </tr>\n",
       "    <tr>\n",
       "      <th>service_date</th>\n",
       "      <th></th>\n",
       "      <th></th>\n",
       "    </tr>\n",
       "  </thead>\n",
       "  <tbody>\n",
       "    <tr>\n",
       "      <th>2018-01-01</th>\n",
       "      <td>66.641052</td>\n",
       "      <td>75.991399</td>\n",
       "    </tr>\n",
       "    <tr>\n",
       "      <th>2018-01-02</th>\n",
       "      <td>75.499145</td>\n",
       "      <td>72.127594</td>\n",
       "    </tr>\n",
       "    <tr>\n",
       "      <th>2018-01-03</th>\n",
       "      <td>73.632415</td>\n",
       "      <td>72.370818</td>\n",
       "    </tr>\n",
       "    <tr>\n",
       "      <th>2018-01-04</th>\n",
       "      <td>65.886202</td>\n",
       "      <td>61.732012</td>\n",
       "    </tr>\n",
       "    <tr>\n",
       "      <th>2018-01-05</th>\n",
       "      <td>69.618782</td>\n",
       "      <td>69.328308</td>\n",
       "    </tr>\n",
       "  </tbody>\n",
       "</table>\n",
       "</div>"
      ],
      "text/plain": [
       "peak_offpeak_ind   OFF_PEAK       PEAK\n",
       "service_date                          \n",
       "2018-01-01        66.641052  75.991399\n",
       "2018-01-02        75.499145  72.127594\n",
       "2018-01-03        73.632415  72.370818\n",
       "2018-01-04        65.886202  61.732012\n",
       "2018-01-05        69.618782  69.328308"
      ]
     },
     "execution_count": 5,
     "metadata": {},
     "output_type": "execute_result"
    }
   ],
   "source": [
    "# Create pivot table, only change the dataframe structure\n",
    "greenb = greenb.pivot_table(index=greenb.index, values='reliability', \n",
    "                            columns='peak_offpeak_ind', aggfunc=np.mean)\n",
    "greenb.head()"
   ]
  },
  {
   "cell_type": "code",
   "execution_count": 6,
   "metadata": {},
   "outputs": [
    {
     "data": {
      "text/plain": [
       "Text(0, 0.5, 'Daily Reliability Percent')"
      ]
     },
     "execution_count": 6,
     "metadata": {},
     "output_type": "execute_result"
    },
    {
     "data": {
      "image/png": "[encoded data removed]",
      "text/plain": [
       "<Figure size 1296x432 with 1 Axes>"
      ]
     },
     "metadata": {
      "needs_background": "light"
     },
     "output_type": "display_data"
    }
   ],
   "source": [
    "# show daily reliability figures\n",
    "fig, ax = plt.subplots(figsize=(18,6))\n",
    "greenb.plot(style='-', ax=ax)\n",
    "plt.ylabel('Daily Reliability Percent')\n",
    "\n",
    "'''\n",
    "Notes: there is no peak time in weekends\n",
    "Normally, the Green-B's performace is better in off-peak time\n",
    "'''"
   ]
  },
  {
   "cell_type": "markdown",
   "metadata": {},
   "source": [
    "#### Show Everyday Reliability of Bus, Commuter Rail and Rail (Subway)"
   ]
  },
  {
   "cell_type": "code",
   "execution_count": 7,
   "metadata": {
    "scrolled": false
   },
   "outputs": [
    {
     "data": {
      "text/html": [
       "<div>\n",
       "<style scoped>\n",
       "    .dataframe tbody tr th:only-of-type {\n",
       "        vertical-align: middle;\n",
       "    }\n",
       "\n",
       "    .dataframe tbody tr th {\n",
       "        vertical-align: top;\n",
       "    }\n",
       "\n",
       "    .dataframe thead th {\n",
       "        text-align: right;\n",
       "    }\n",
       "</style>\n",
       "<table border=\"1\" class=\"dataframe\">\n",
       "  <thead>\n",
       "    <tr style=\"text-align: right;\">\n",
       "      <th>mode_type</th>\n",
       "      <th>Bus</th>\n",
       "      <th>Commuter Rail</th>\n",
       "      <th>Rail</th>\n",
       "    </tr>\n",
       "    <tr>\n",
       "      <th>service_date</th>\n",
       "      <th></th>\n",
       "      <th></th>\n",
       "      <th></th>\n",
       "    </tr>\n",
       "  </thead>\n",
       "  <tbody>\n",
       "    <tr>\n",
       "      <th>2015-01-01</th>\n",
       "      <td>71.387627</td>\n",
       "      <td>96.902719</td>\n",
       "      <td>NaN</td>\n",
       "    </tr>\n",
       "    <tr>\n",
       "      <th>2015-01-02</th>\n",
       "      <td>68.407700</td>\n",
       "      <td>95.928483</td>\n",
       "      <td>NaN</td>\n",
       "    </tr>\n",
       "    <tr>\n",
       "      <th>2015-01-03</th>\n",
       "      <td>70.873196</td>\n",
       "      <td>94.176722</td>\n",
       "      <td>NaN</td>\n",
       "    </tr>\n",
       "    <tr>\n",
       "      <th>2015-01-04</th>\n",
       "      <td>72.449728</td>\n",
       "      <td>97.073413</td>\n",
       "      <td>NaN</td>\n",
       "    </tr>\n",
       "    <tr>\n",
       "      <th>2015-01-05</th>\n",
       "      <td>69.745918</td>\n",
       "      <td>90.799830</td>\n",
       "      <td>NaN</td>\n",
       "    </tr>\n",
       "  </tbody>\n",
       "</table>\n",
       "</div>"
      ],
      "text/plain": [
       "mode_type           Bus  Commuter Rail  Rail\n",
       "service_date                                \n",
       "2015-01-01    71.387627      96.902719   NaN\n",
       "2015-01-02    68.407700      95.928483   NaN\n",
       "2015-01-03    70.873196      94.176722   NaN\n",
       "2015-01-04    72.449728      97.073413   NaN\n",
       "2015-01-05    69.745918      90.799830   NaN"
      ]
     },
     "execution_count": 7,
     "metadata": {},
     "output_type": "execute_result"
    }
   ],
   "source": [
    "data = raw\n",
    "\n",
    "# Pivot table, for all three traffic mode\n",
    "data = data.pivot_table(index=data.index, values='reliability', \n",
    "                        columns='mode_type', aggfunc=np.mean)\n",
    "data.head()"
   ]
  },
  {
   "cell_type": "markdown",
   "metadata": {},
   "source": [
    "#### Calculate Reliability for Every Week"
   ]
  },
  {
   "cell_type": "code",
   "execution_count": 8,
   "metadata": {
    "scrolled": false
   },
   "outputs": [
    {
     "data": {
      "text/html": [
       "<div>\n",
       "<style scoped>\n",
       "    .dataframe tbody tr th:only-of-type {\n",
       "        vertical-align: middle;\n",
       "    }\n",
       "\n",
       "    .dataframe tbody tr th {\n",
       "        vertical-align: top;\n",
       "    }\n",
       "\n",
       "    .dataframe thead th {\n",
       "        text-align: right;\n",
       "    }\n",
       "</style>\n",
       "<table border=\"1\" class=\"dataframe\">\n",
       "  <thead>\n",
       "    <tr style=\"text-align: right;\">\n",
       "      <th>mode_type</th>\n",
       "      <th>Bus</th>\n",
       "      <th>Commuter Rail</th>\n",
       "      <th>Rail</th>\n",
       "    </tr>\n",
       "    <tr>\n",
       "      <th>service_date</th>\n",
       "      <th></th>\n",
       "      <th></th>\n",
       "      <th></th>\n",
       "    </tr>\n",
       "  </thead>\n",
       "  <tbody>\n",
       "    <tr>\n",
       "      <th>2015-01-04</th>\n",
       "      <td>70.779563</td>\n",
       "      <td>96.020334</td>\n",
       "      <td>NaN</td>\n",
       "    </tr>\n",
       "    <tr>\n",
       "      <th>2015-01-11</th>\n",
       "      <td>70.533211</td>\n",
       "      <td>88.132863</td>\n",
       "      <td>NaN</td>\n",
       "    </tr>\n",
       "    <tr>\n",
       "      <th>2015-01-18</th>\n",
       "      <td>69.095201</td>\n",
       "      <td>92.456236</td>\n",
       "      <td>NaN</td>\n",
       "    </tr>\n",
       "    <tr>\n",
       "      <th>2015-01-25</th>\n",
       "      <td>68.353561</td>\n",
       "      <td>91.651903</td>\n",
       "      <td>NaN</td>\n",
       "    </tr>\n",
       "    <tr>\n",
       "      <th>2015-02-01</th>\n",
       "      <td>52.380031</td>\n",
       "      <td>71.791847</td>\n",
       "      <td>NaN</td>\n",
       "    </tr>\n",
       "  </tbody>\n",
       "</table>\n",
       "</div>"
      ],
      "text/plain": [
       "mode_type           Bus  Commuter Rail  Rail\n",
       "service_date                                \n",
       "2015-01-04    70.779563      96.020334   NaN\n",
       "2015-01-11    70.533211      88.132863   NaN\n",
       "2015-01-18    69.095201      92.456236   NaN\n",
       "2015-01-25    68.353561      91.651903   NaN\n",
       "2015-02-01    52.380031      71.791847   NaN"
      ]
     },
     "execution_count": 8,
     "metadata": {},
     "output_type": "execute_result"
    }
   ],
   "source": [
    "weekly = data.resample('W').mean()\n",
    "weekly_mean = pd.DataFrame(weekly)\n",
    "weekly_mean.head()"
   ]
  },
  {
   "cell_type": "markdown",
   "metadata": {},
   "source": [
    "#### Draw Weekly Reliability Figure"
   ]
  },
  {
   "cell_type": "code",
   "execution_count": 9,
   "metadata": {
    "scrolled": true
   },
   "outputs": [
    {
     "data": {
      "text/plain": [
       "Text(0, 0.5, 'Weekly Reliability Percent')"
      ]
     },
     "execution_count": 9,
     "metadata": {},
     "output_type": "execute_result"
    },
    {
     "data": {
      "image/png": "[encoded data removed]",
      "text/plain": [
       "<Figure size 1296x288 with 1 Axes>"
      ]
     },
     "metadata": {
      "needs_background": "light"
     },
     "output_type": "display_data"
    }
   ],
   "source": [
    "# MBTA provides subway Performance Data begin from 2018\n",
    "fig, ax = plt.subplots(figsize=(18,4))\n",
    "weekly_mean.plot(style='-', ax=ax)\n",
    "plt.ylabel('Weekly Reliability Percent')\n",
    "\n",
    "'''\n",
    "MBTA doesn't begin to provide subway's data until Year 2018.\n",
    "Every winter, all traffic performance will go down obviously.\n",
    "We can find obvious weekly and monthly trend in the figure.\n",
    "'''"
   ]
  },
  {
   "cell_type": "markdown",
   "metadata": {},
   "source": [
    "#### Select Bus Data to Forecast Prediction"
   ]
  },
  {
   "cell_type": "code",
   "execution_count": 10,
   "metadata": {},
   "outputs": [
    {
     "data": {
      "text/html": [
       "<div>\n",
       "<style scoped>\n",
       "    .dataframe tbody tr th:only-of-type {\n",
       "        vertical-align: middle;\n",
       "    }\n",
       "\n",
       "    .dataframe tbody tr th {\n",
       "        vertical-align: top;\n",
       "    }\n",
       "\n",
       "    .dataframe thead th {\n",
       "        text-align: right;\n",
       "    }\n",
       "</style>\n",
       "<table border=\"1\" class=\"dataframe\">\n",
       "  <thead>\n",
       "    <tr style=\"text-align: right;\">\n",
       "      <th></th>\n",
       "      <th>ds</th>\n",
       "      <th>y</th>\n",
       "    </tr>\n",
       "  </thead>\n",
       "  <tbody>\n",
       "    <tr>\n",
       "      <th>1455</th>\n",
       "      <td>2018-12-27</td>\n",
       "      <td>70.801216</td>\n",
       "    </tr>\n",
       "    <tr>\n",
       "      <th>1456</th>\n",
       "      <td>2018-12-28</td>\n",
       "      <td>69.572885</td>\n",
       "    </tr>\n",
       "    <tr>\n",
       "      <th>1457</th>\n",
       "      <td>2018-12-29</td>\n",
       "      <td>72.305093</td>\n",
       "    </tr>\n",
       "    <tr>\n",
       "      <th>1458</th>\n",
       "      <td>2018-12-30</td>\n",
       "      <td>72.603818</td>\n",
       "    </tr>\n",
       "    <tr>\n",
       "      <th>1459</th>\n",
       "      <td>2018-12-31</td>\n",
       "      <td>68.239101</td>\n",
       "    </tr>\n",
       "  </tbody>\n",
       "</table>\n",
       "</div>"
      ],
      "text/plain": [
       "             ds          y\n",
       "1455 2018-12-27  70.801216\n",
       "1456 2018-12-28  69.572885\n",
       "1457 2018-12-29  72.305093\n",
       "1458 2018-12-30  72.603818\n",
       "1459 2018-12-31  68.239101"
      ]
     },
     "execution_count": 10,
     "metadata": {},
     "output_type": "execute_result"
    }
   ],
   "source": [
    "bus = data[['Bus']]\n",
    "bus.reset_index(inplace=True)\n",
    "bus.columns=['ds', 'y']\n",
    "bus.tail()"
   ]
  },
  {
   "cell_type": "markdown",
   "metadata": {},
   "source": [
    "#### Prophet & Fit Data Set"
   ]
  },
  {
   "cell_type": "code",
   "execution_count": 12,
   "metadata": {},
   "outputs": [],
   "source": [
    "m = Prophet(yearly_seasonality=True, \n",
    "            weekly_seasonality=True, \n",
    "            daily_seasonality=False)\n",
    "m.fit(bus);"
   ]
  },
  {
   "cell_type": "markdown",
   "metadata": {},
   "source": [
    "#### Prediction & Result"
   ]
  },
  {
   "cell_type": "code",
   "execution_count": 13,
   "metadata": {
    "scrolled": true
   },
   "outputs": [
    {
     "data": {
      "text/html": [
       "<div>\n",
       "<style scoped>\n",
       "    .dataframe tbody tr th:only-of-type {\n",
       "        vertical-align: middle;\n",
       "    }\n",
       "\n",
       "    .dataframe tbody tr th {\n",
       "        vertical-align: top;\n",
       "    }\n",
       "\n",
       "    .dataframe thead th {\n",
       "        text-align: right;\n",
       "    }\n",
       "</style>\n",
       "<table border=\"1\" class=\"dataframe\">\n",
       "  <thead>\n",
       "    <tr style=\"text-align: right;\">\n",
       "      <th></th>\n",
       "      <th>ds</th>\n",
       "      <th>trend</th>\n",
       "      <th>yhat_lower</th>\n",
       "      <th>yhat_upper</th>\n",
       "      <th>trend_lower</th>\n",
       "      <th>trend_upper</th>\n",
       "      <th>additive_terms</th>\n",
       "      <th>additive_terms_lower</th>\n",
       "      <th>additive_terms_upper</th>\n",
       "      <th>weekly</th>\n",
       "      <th>weekly_lower</th>\n",
       "      <th>weekly_upper</th>\n",
       "      <th>yearly</th>\n",
       "      <th>yearly_lower</th>\n",
       "      <th>yearly_upper</th>\n",
       "      <th>multiplicative_terms</th>\n",
       "      <th>multiplicative_terms_lower</th>\n",
       "      <th>multiplicative_terms_upper</th>\n",
       "      <th>yhat</th>\n",
       "    </tr>\n",
       "  </thead>\n",
       "  <tbody>\n",
       "    <tr>\n",
       "      <th>1820</th>\n",
       "      <td>2019-12-27</td>\n",
       "      <td>63.395562</td>\n",
       "      <td>58.553645</td>\n",
       "      <td>72.156742</td>\n",
       "      <td>59.216033</td>\n",
       "      <td>67.860125</td>\n",
       "      <td>1.749781</td>\n",
       "      <td>1.749781</td>\n",
       "      <td>1.749781</td>\n",
       "      <td>-1.946085</td>\n",
       "      <td>-1.946085</td>\n",
       "      <td>-1.946085</td>\n",
       "      <td>3.695866</td>\n",
       "      <td>3.695866</td>\n",
       "      <td>3.695866</td>\n",
       "      <td>0.0</td>\n",
       "      <td>0.0</td>\n",
       "      <td>0.0</td>\n",
       "      <td>65.145343</td>\n",
       "    </tr>\n",
       "    <tr>\n",
       "      <th>1821</th>\n",
       "      <td>2019-12-28</td>\n",
       "      <td>63.395058</td>\n",
       "      <td>63.750479</td>\n",
       "      <td>77.486043</td>\n",
       "      <td>59.188268</td>\n",
       "      <td>67.879183</td>\n",
       "      <td>7.008009</td>\n",
       "      <td>7.008009</td>\n",
       "      <td>7.008009</td>\n",
       "      <td>2.969698</td>\n",
       "      <td>2.969698</td>\n",
       "      <td>2.969698</td>\n",
       "      <td>4.038311</td>\n",
       "      <td>4.038311</td>\n",
       "      <td>4.038311</td>\n",
       "      <td>0.0</td>\n",
       "      <td>0.0</td>\n",
       "      <td>0.0</td>\n",
       "      <td>70.403068</td>\n",
       "    </tr>\n",
       "    <tr>\n",
       "      <th>1822</th>\n",
       "      <td>2019-12-29</td>\n",
       "      <td>63.394555</td>\n",
       "      <td>63.767181</td>\n",
       "      <td>77.943625</td>\n",
       "      <td>59.176777</td>\n",
       "      <td>67.898242</td>\n",
       "      <td>7.168510</td>\n",
       "      <td>7.168510</td>\n",
       "      <td>7.168510</td>\n",
       "      <td>2.797333</td>\n",
       "      <td>2.797333</td>\n",
       "      <td>2.797333</td>\n",
       "      <td>4.371177</td>\n",
       "      <td>4.371177</td>\n",
       "      <td>4.371177</td>\n",
       "      <td>0.0</td>\n",
       "      <td>0.0</td>\n",
       "      <td>0.0</td>\n",
       "      <td>70.563064</td>\n",
       "    </tr>\n",
       "    <tr>\n",
       "      <th>1823</th>\n",
       "      <td>2019-12-30</td>\n",
       "      <td>63.394051</td>\n",
       "      <td>63.608448</td>\n",
       "      <td>77.128545</td>\n",
       "      <td>59.167300</td>\n",
       "      <td>67.922528</td>\n",
       "      <td>6.715273</td>\n",
       "      <td>6.715273</td>\n",
       "      <td>6.715273</td>\n",
       "      <td>2.024612</td>\n",
       "      <td>2.024612</td>\n",
       "      <td>2.024612</td>\n",
       "      <td>4.690662</td>\n",
       "      <td>4.690662</td>\n",
       "      <td>4.690662</td>\n",
       "      <td>0.0</td>\n",
       "      <td>0.0</td>\n",
       "      <td>0.0</td>\n",
       "      <td>70.109324</td>\n",
       "    </tr>\n",
       "    <tr>\n",
       "      <th>1824</th>\n",
       "      <td>2019-12-31</td>\n",
       "      <td>63.393547</td>\n",
       "      <td>60.489536</td>\n",
       "      <td>73.799622</td>\n",
       "      <td>59.152055</td>\n",
       "      <td>67.951065</td>\n",
       "      <td>3.809182</td>\n",
       "      <td>3.809182</td>\n",
       "      <td>3.809182</td>\n",
       "      <td>-1.183947</td>\n",
       "      <td>-1.183947</td>\n",
       "      <td>-1.183947</td>\n",
       "      <td>4.993129</td>\n",
       "      <td>4.993129</td>\n",
       "      <td>4.993129</td>\n",
       "      <td>0.0</td>\n",
       "      <td>0.0</td>\n",
       "      <td>0.0</td>\n",
       "      <td>67.202730</td>\n",
       "    </tr>\n",
       "  </tbody>\n",
       "</table>\n",
       "</div>"
      ],
      "text/plain": [
       "             ds      trend  yhat_lower  yhat_upper  trend_lower  trend_upper  \\\n",
       "1820 2019-12-27  63.395562   58.553645   72.156742    59.216033    67.860125   \n",
       "1821 2019-12-28  63.395058   63.750479   77.486043    59.188268    67.879183   \n",
       "1822 2019-12-29  63.394555   63.767181   77.943625    59.176777    67.898242   \n",
       "1823 2019-12-30  63.394051   63.608448   77.128545    59.167300    67.922528   \n",
       "1824 2019-12-31  63.393547   60.489536   73.799622    59.152055    67.951065   \n",
       "\n",
       "      additive_terms  additive_terms_lower  additive_terms_upper    weekly  \\\n",
       "1820        1.749781              1.749781              1.749781 -1.946085   \n",
       "1821        7.008009              7.008009              7.008009  2.969698   \n",
       "1822        7.168510              7.168510              7.168510  2.797333   \n",
       "1823        6.715273              6.715273              6.715273  2.024612   \n",
       "1824        3.809182              3.809182              3.809182 -1.183947   \n",
       "\n",
       "      weekly_lower  weekly_upper    yearly  yearly_lower  yearly_upper  \\\n",
       "1820     -1.946085     -1.946085  3.695866      3.695866      3.695866   \n",
       "1821      2.969698      2.969698  4.038311      4.038311      4.038311   \n",
       "1822      2.797333      2.797333  4.371177      4.371177      4.371177   \n",
       "1823      2.024612      2.024612  4.690662      4.690662      4.690662   \n",
       "1824     -1.183947     -1.183947  4.993129      4.993129      4.993129   \n",
       "\n",
       "      multiplicative_terms  multiplicative_terms_lower  \\\n",
       "1820                   0.0                         0.0   \n",
       "1821                   0.0                         0.0   \n",
       "1822                   0.0                         0.0   \n",
       "1823                   0.0                         0.0   \n",
       "1824                   0.0                         0.0   \n",
       "\n",
       "      multiplicative_terms_upper       yhat  \n",
       "1820                         0.0  65.145343  \n",
       "1821                         0.0  70.403068  \n",
       "1822                         0.0  70.563064  \n",
       "1823                         0.0  70.109324  \n",
       "1824                         0.0  67.202730  "
      ]
     },
     "execution_count": 13,
     "metadata": {},
     "output_type": "execute_result"
    }
   ],
   "source": [
    "# Generate future date: next one year\n",
    "future = m.make_future_dataframe(periods=365)\n",
    "\n",
    "forecast = m.predict(future)\n",
    "forecast.tail()"
   ]
  },
  {
   "cell_type": "markdown",
   "metadata": {},
   "source": [
    "#### Draw Figures"
   ]
  },
  {
   "cell_type": "code",
   "execution_count": 14,
   "metadata": {},
   "outputs": [
    {
     "data": {
      "image/png": "[encoded data removed]",
      "text/plain": [
       "<Figure size 720x432 with 1 Axes>"
      ]
     },
     "metadata": {},
     "output_type": "display_data"
    }
   ],
   "source": [
    "'''\n",
    "Every year shows the same trend. like W-M-V shape.\n",
    "'''\n",
    "fig1 = m.plot(forecast)\n",
    "\n",
    "for cp in m.changepoints:\n",
    "    plt.axvline(cp, c='gray', ls='--', lw=1)"
   ]
  },
  {
   "cell_type": "code",
   "execution_count": 15,
   "metadata": {
    "scrolled": false
   },
   "outputs": [
    {
     "data": {
      "image/png": "[encoded data removed]",
      "text/plain": [
       "<Figure size 648x648 with 3 Axes>"
      ]
     },
     "metadata": {},
     "output_type": "display_data"
    }
   ],
   "source": [
    "'''\n",
    "Show the predicted trend of the Year 2020\n",
    "Show the weekly trend, weenkends have high performance becasue of off-peak time\n",
    "'''\n",
    "fig2 = m.plot_components(forecast)"
   ]
  },
  {
   "cell_type": "markdown",
   "metadata": {},
   "source": [
    "#### Linear Regression & Logistic Regression Data Pre-processing"
   ]
  },
  {
   "cell_type": "code",
   "execution_count": 16,
   "metadata": {},
   "outputs": [
    {
     "data": {
      "text/html": [
       "<div>\n",
       "<style scoped>\n",
       "    .dataframe tbody tr th:only-of-type {\n",
       "        vertical-align: middle;\n",
       "    }\n",
       "\n",
       "    .dataframe tbody tr th {\n",
       "        vertical-align: top;\n",
       "    }\n",
       "\n",
       "    .dataframe thead th {\n",
       "        text-align: right;\n",
       "    }\n",
       "</style>\n",
       "<table border=\"1\" class=\"dataframe\">\n",
       "  <thead>\n",
       "    <tr style=\"text-align: right;\">\n",
       "      <th></th>\n",
       "      <th>bus</th>\n",
       "      <th>commuter rail</th>\n",
       "      <th>subway</th>\n",
       "    </tr>\n",
       "    <tr>\n",
       "      <th>date</th>\n",
       "      <th></th>\n",
       "      <th></th>\n",
       "      <th></th>\n",
       "    </tr>\n",
       "  </thead>\n",
       "  <tbody>\n",
       "    <tr>\n",
       "      <th>2015-01-01</th>\n",
       "      <td>71.387627</td>\n",
       "      <td>96.902719</td>\n",
       "      <td>NaN</td>\n",
       "    </tr>\n",
       "    <tr>\n",
       "      <th>2015-01-02</th>\n",
       "      <td>68.407700</td>\n",
       "      <td>95.928483</td>\n",
       "      <td>NaN</td>\n",
       "    </tr>\n",
       "    <tr>\n",
       "      <th>2015-01-03</th>\n",
       "      <td>70.873196</td>\n",
       "      <td>94.176722</td>\n",
       "      <td>NaN</td>\n",
       "    </tr>\n",
       "    <tr>\n",
       "      <th>2015-01-04</th>\n",
       "      <td>72.449728</td>\n",
       "      <td>97.073413</td>\n",
       "      <td>NaN</td>\n",
       "    </tr>\n",
       "    <tr>\n",
       "      <th>2015-01-05</th>\n",
       "      <td>69.745918</td>\n",
       "      <td>90.799830</td>\n",
       "      <td>NaN</td>\n",
       "    </tr>\n",
       "  </tbody>\n",
       "</table>\n",
       "</div>"
      ],
      "text/plain": [
       "                  bus  commuter rail  subway\n",
       "date                                        \n",
       "2015-01-01  71.387627      96.902719     NaN\n",
       "2015-01-02  68.407700      95.928483     NaN\n",
       "2015-01-03  70.873196      94.176722     NaN\n",
       "2015-01-04  72.449728      97.073413     NaN\n",
       "2015-01-05  69.745918      90.799830     NaN"
      ]
     },
     "execution_count": 16,
     "metadata": {},
     "output_type": "execute_result"
    }
   ],
   "source": [
    "# Select columns we need to use\n",
    "mbta = data[['Bus', 'Commuter Rail', 'Rail']]\n",
    "mbta.reset_index(inplace=True)\n",
    "\n",
    "# Modifty columns' name\n",
    "mbta.columns=['date', 'bus', 'commuter rail', 'subway']\n",
    "mbta.set_index('date', inplace=True)\n",
    "\n",
    "mbta.head()"
   ]
  },
  {
   "cell_type": "markdown",
   "metadata": {},
   "source": [
    "#### Merge Holiday Data"
   ]
  },
  {
   "cell_type": "code",
   "execution_count": 17,
   "metadata": {
    "scrolled": true
   },
   "outputs": [
    {
     "data": {
      "text/html": [
       "<div>\n",
       "<style scoped>\n",
       "    .dataframe tbody tr th:only-of-type {\n",
       "        vertical-align: middle;\n",
       "    }\n",
       "\n",
       "    .dataframe tbody tr th {\n",
       "        vertical-align: top;\n",
       "    }\n",
       "\n",
       "    .dataframe thead th {\n",
       "        text-align: right;\n",
       "    }\n",
       "</style>\n",
       "<table border=\"1\" class=\"dataframe\">\n",
       "  <thead>\n",
       "    <tr style=\"text-align: right;\">\n",
       "      <th></th>\n",
       "      <th>bus</th>\n",
       "      <th>commuter rail</th>\n",
       "      <th>subway</th>\n",
       "      <th>HOLIDAY</th>\n",
       "    </tr>\n",
       "    <tr>\n",
       "      <th>date</th>\n",
       "      <th></th>\n",
       "      <th></th>\n",
       "      <th></th>\n",
       "      <th></th>\n",
       "    </tr>\n",
       "  </thead>\n",
       "  <tbody>\n",
       "    <tr>\n",
       "      <th>2015-01-01</th>\n",
       "      <td>71.387627</td>\n",
       "      <td>96.902719</td>\n",
       "      <td>NaN</td>\n",
       "      <td>1.0</td>\n",
       "    </tr>\n",
       "    <tr>\n",
       "      <th>2015-01-02</th>\n",
       "      <td>68.407700</td>\n",
       "      <td>95.928483</td>\n",
       "      <td>NaN</td>\n",
       "      <td>0.0</td>\n",
       "    </tr>\n",
       "    <tr>\n",
       "      <th>2015-01-03</th>\n",
       "      <td>70.873196</td>\n",
       "      <td>94.176722</td>\n",
       "      <td>NaN</td>\n",
       "      <td>0.0</td>\n",
       "    </tr>\n",
       "    <tr>\n",
       "      <th>2015-01-04</th>\n",
       "      <td>72.449728</td>\n",
       "      <td>97.073413</td>\n",
       "      <td>NaN</td>\n",
       "      <td>0.0</td>\n",
       "    </tr>\n",
       "    <tr>\n",
       "      <th>2015-01-05</th>\n",
       "      <td>69.745918</td>\n",
       "      <td>90.799830</td>\n",
       "      <td>NaN</td>\n",
       "      <td>0.0</td>\n",
       "    </tr>\n",
       "  </tbody>\n",
       "</table>\n",
       "</div>"
      ],
      "text/plain": [
       "                  bus  commuter rail  subway  HOLIDAY\n",
       "date                                                 \n",
       "2015-01-01  71.387627      96.902719     NaN      1.0\n",
       "2015-01-02  68.407700      95.928483     NaN      0.0\n",
       "2015-01-03  70.873196      94.176722     NaN      0.0\n",
       "2015-01-04  72.449728      97.073413     NaN      0.0\n",
       "2015-01-05  69.745918      90.799830     NaN      0.0"
      ]
     },
     "execution_count": 17,
     "metadata": {},
     "output_type": "execute_result"
    }
   ],
   "source": [
    "# choose 2015-2018 year\n",
    "cal = USFederalHolidayCalendar()\n",
    "holidays = cal.holidays('2015','2018')\n",
    "\n",
    "holidays_series = pd.Series(1, index=holidays, name='HOLIDAY')\n",
    "\n",
    "# join together\n",
    "mbta = mbta.join(holidays_series)\n",
    "mbta['HOLIDAY'].fillna(0, inplace=True)\n",
    "\n",
    "mbta.head()"
   ]
  },
  {
   "cell_type": "markdown",
   "metadata": {},
   "source": [
    "#### Merge Weather Data"
   ]
  },
  {
   "cell_type": "code",
   "execution_count": 18,
   "metadata": {},
   "outputs": [
    {
     "data": {
      "text/html": [
       "<div>\n",
       "<style scoped>\n",
       "    .dataframe tbody tr th:only-of-type {\n",
       "        vertical-align: middle;\n",
       "    }\n",
       "\n",
       "    .dataframe tbody tr th {\n",
       "        vertical-align: top;\n",
       "    }\n",
       "\n",
       "    .dataframe thead th {\n",
       "        text-align: right;\n",
       "    }\n",
       "</style>\n",
       "<table border=\"1\" class=\"dataframe\">\n",
       "  <thead>\n",
       "    <tr style=\"text-align: right;\">\n",
       "      <th></th>\n",
       "      <th>bus</th>\n",
       "      <th>commuter rail</th>\n",
       "      <th>subway</th>\n",
       "      <th>HOLIDAY</th>\n",
       "      <th>PRCP</th>\n",
       "      <th>SNOW</th>\n",
       "      <th>TAVG</th>\n",
       "    </tr>\n",
       "    <tr>\n",
       "      <th>date</th>\n",
       "      <th></th>\n",
       "      <th></th>\n",
       "      <th></th>\n",
       "      <th></th>\n",
       "      <th></th>\n",
       "      <th></th>\n",
       "      <th></th>\n",
       "    </tr>\n",
       "  </thead>\n",
       "  <tbody>\n",
       "    <tr>\n",
       "      <th>2015-01-01</th>\n",
       "      <td>71.387627</td>\n",
       "      <td>96.902719</td>\n",
       "      <td>NaN</td>\n",
       "      <td>1.0</td>\n",
       "      <td>0.00</td>\n",
       "      <td>0.0</td>\n",
       "      <td>26.0</td>\n",
       "    </tr>\n",
       "    <tr>\n",
       "      <th>2015-01-02</th>\n",
       "      <td>68.407700</td>\n",
       "      <td>95.928483</td>\n",
       "      <td>NaN</td>\n",
       "      <td>0.0</td>\n",
       "      <td>0.00</td>\n",
       "      <td>0.0</td>\n",
       "      <td>34.0</td>\n",
       "    </tr>\n",
       "    <tr>\n",
       "      <th>2015-01-03</th>\n",
       "      <td>70.873196</td>\n",
       "      <td>94.176722</td>\n",
       "      <td>NaN</td>\n",
       "      <td>0.0</td>\n",
       "      <td>0.62</td>\n",
       "      <td>1.4</td>\n",
       "      <td>28.0</td>\n",
       "    </tr>\n",
       "    <tr>\n",
       "      <th>2015-01-04</th>\n",
       "      <td>72.449728</td>\n",
       "      <td>97.073413</td>\n",
       "      <td>NaN</td>\n",
       "      <td>0.0</td>\n",
       "      <td>0.57</td>\n",
       "      <td>0.0</td>\n",
       "      <td>38.0</td>\n",
       "    </tr>\n",
       "    <tr>\n",
       "      <th>2015-01-05</th>\n",
       "      <td>69.745918</td>\n",
       "      <td>90.799830</td>\n",
       "      <td>NaN</td>\n",
       "      <td>0.0</td>\n",
       "      <td>0.00</td>\n",
       "      <td>0.0</td>\n",
       "      <td>40.0</td>\n",
       "    </tr>\n",
       "  </tbody>\n",
       "</table>\n",
       "</div>"
      ],
      "text/plain": [
       "                  bus  commuter rail  subway  HOLIDAY  PRCP  SNOW  TAVG\n",
       "date                                                                   \n",
       "2015-01-01  71.387627      96.902719     NaN      1.0  0.00   0.0  26.0\n",
       "2015-01-02  68.407700      95.928483     NaN      0.0  0.00   0.0  34.0\n",
       "2015-01-03  70.873196      94.176722     NaN      0.0  0.62   1.4  28.0\n",
       "2015-01-04  72.449728      97.073413     NaN      0.0  0.57   0.0  38.0\n",
       "2015-01-05  69.745918      90.799830     NaN      0.0  0.00   0.0  40.0"
      ]
     },
     "execution_count": 18,
     "metadata": {},
     "output_type": "execute_result"
    }
   ],
   "source": [
    "# read csv file\n",
    "raw_weather = pd.read_csv(file_path + 'weather/weather.csv', \n",
    "                          index_col='DATE', parse_dates=True)\n",
    "\n",
    "raw_weather.drop(['STATION', 'TMIN', 'TMAX'], axis=1, inplace=True)\n",
    "\n",
    "# select date\n",
    "weather = raw_weather['2015/1':'2018/12']\n",
    "\n",
    "# join\n",
    "mbta = mbta.join(weather)\n",
    "mbta.head()"
   ]
  },
  {
   "cell_type": "markdown",
   "metadata": {},
   "source": [
    "#### Merge Month Data"
   ]
  },
  {
   "cell_type": "code",
   "execution_count": 19,
   "metadata": {
    "scrolled": false
   },
   "outputs": [
    {
     "data": {
      "text/html": [
       "<div>\n",
       "<style scoped>\n",
       "    .dataframe tbody tr th:only-of-type {\n",
       "        vertical-align: middle;\n",
       "    }\n",
       "\n",
       "    .dataframe tbody tr th {\n",
       "        vertical-align: top;\n",
       "    }\n",
       "\n",
       "    .dataframe thead th {\n",
       "        text-align: right;\n",
       "    }\n",
       "</style>\n",
       "<table border=\"1\" class=\"dataframe\">\n",
       "  <thead>\n",
       "    <tr style=\"text-align: right;\">\n",
       "      <th></th>\n",
       "      <th>bus</th>\n",
       "      <th>commuter rail</th>\n",
       "      <th>subway</th>\n",
       "      <th>HOLIDAY</th>\n",
       "      <th>PRCP</th>\n",
       "      <th>SNOW</th>\n",
       "      <th>TAVG</th>\n",
       "      <th>Jan</th>\n",
       "      <th>Feb</th>\n",
       "      <th>Mar</th>\n",
       "      <th>Apr</th>\n",
       "      <th>May</th>\n",
       "      <th>Jun</th>\n",
       "      <th>Jul</th>\n",
       "      <th>Aug</th>\n",
       "      <th>Sep</th>\n",
       "      <th>Oct</th>\n",
       "      <th>Nov</th>\n",
       "      <th>Dec</th>\n",
       "    </tr>\n",
       "    <tr>\n",
       "      <th>date</th>\n",
       "      <th></th>\n",
       "      <th></th>\n",
       "      <th></th>\n",
       "      <th></th>\n",
       "      <th></th>\n",
       "      <th></th>\n",
       "      <th></th>\n",
       "      <th></th>\n",
       "      <th></th>\n",
       "      <th></th>\n",
       "      <th></th>\n",
       "      <th></th>\n",
       "      <th></th>\n",
       "      <th></th>\n",
       "      <th></th>\n",
       "      <th></th>\n",
       "      <th></th>\n",
       "      <th></th>\n",
       "      <th></th>\n",
       "    </tr>\n",
       "  </thead>\n",
       "  <tbody>\n",
       "    <tr>\n",
       "      <th>2015-01-01</th>\n",
       "      <td>71.387627</td>\n",
       "      <td>96.902719</td>\n",
       "      <td>NaN</td>\n",
       "      <td>1.0</td>\n",
       "      <td>0.00</td>\n",
       "      <td>0.0</td>\n",
       "      <td>26.0</td>\n",
       "      <td>1</td>\n",
       "      <td>0</td>\n",
       "      <td>0</td>\n",
       "      <td>0</td>\n",
       "      <td>0</td>\n",
       "      <td>0</td>\n",
       "      <td>0</td>\n",
       "      <td>0</td>\n",
       "      <td>0</td>\n",
       "      <td>0</td>\n",
       "      <td>0</td>\n",
       "      <td>0</td>\n",
       "    </tr>\n",
       "    <tr>\n",
       "      <th>2015-01-02</th>\n",
       "      <td>68.407700</td>\n",
       "      <td>95.928483</td>\n",
       "      <td>NaN</td>\n",
       "      <td>0.0</td>\n",
       "      <td>0.00</td>\n",
       "      <td>0.0</td>\n",
       "      <td>34.0</td>\n",
       "      <td>1</td>\n",
       "      <td>0</td>\n",
       "      <td>0</td>\n",
       "      <td>0</td>\n",
       "      <td>0</td>\n",
       "      <td>0</td>\n",
       "      <td>0</td>\n",
       "      <td>0</td>\n",
       "      <td>0</td>\n",
       "      <td>0</td>\n",
       "      <td>0</td>\n",
       "      <td>0</td>\n",
       "    </tr>\n",
       "    <tr>\n",
       "      <th>2015-01-03</th>\n",
       "      <td>70.873196</td>\n",
       "      <td>94.176722</td>\n",
       "      <td>NaN</td>\n",
       "      <td>0.0</td>\n",
       "      <td>0.62</td>\n",
       "      <td>1.4</td>\n",
       "      <td>28.0</td>\n",
       "      <td>1</td>\n",
       "      <td>0</td>\n",
       "      <td>0</td>\n",
       "      <td>0</td>\n",
       "      <td>0</td>\n",
       "      <td>0</td>\n",
       "      <td>0</td>\n",
       "      <td>0</td>\n",
       "      <td>0</td>\n",
       "      <td>0</td>\n",
       "      <td>0</td>\n",
       "      <td>0</td>\n",
       "    </tr>\n",
       "    <tr>\n",
       "      <th>2015-01-04</th>\n",
       "      <td>72.449728</td>\n",
       "      <td>97.073413</td>\n",
       "      <td>NaN</td>\n",
       "      <td>0.0</td>\n",
       "      <td>0.57</td>\n",
       "      <td>0.0</td>\n",
       "      <td>38.0</td>\n",
       "      <td>1</td>\n",
       "      <td>0</td>\n",
       "      <td>0</td>\n",
       "      <td>0</td>\n",
       "      <td>0</td>\n",
       "      <td>0</td>\n",
       "      <td>0</td>\n",
       "      <td>0</td>\n",
       "      <td>0</td>\n",
       "      <td>0</td>\n",
       "      <td>0</td>\n",
       "      <td>0</td>\n",
       "    </tr>\n",
       "    <tr>\n",
       "      <th>2015-01-05</th>\n",
       "      <td>69.745918</td>\n",
       "      <td>90.799830</td>\n",
       "      <td>NaN</td>\n",
       "      <td>0.0</td>\n",
       "      <td>0.00</td>\n",
       "      <td>0.0</td>\n",
       "      <td>40.0</td>\n",
       "      <td>1</td>\n",
       "      <td>0</td>\n",
       "      <td>0</td>\n",
       "      <td>0</td>\n",
       "      <td>0</td>\n",
       "      <td>0</td>\n",
       "      <td>0</td>\n",
       "      <td>0</td>\n",
       "      <td>0</td>\n",
       "      <td>0</td>\n",
       "      <td>0</td>\n",
       "      <td>0</td>\n",
       "    </tr>\n",
       "  </tbody>\n",
       "</table>\n",
       "</div>"
      ],
      "text/plain": [
       "                  bus  commuter rail  subway  HOLIDAY  PRCP  SNOW  TAVG  Jan  \\\n",
       "date                                                                           \n",
       "2015-01-01  71.387627      96.902719     NaN      1.0  0.00   0.0  26.0    1   \n",
       "2015-01-02  68.407700      95.928483     NaN      0.0  0.00   0.0  34.0    1   \n",
       "2015-01-03  70.873196      94.176722     NaN      0.0  0.62   1.4  28.0    1   \n",
       "2015-01-04  72.449728      97.073413     NaN      0.0  0.57   0.0  38.0    1   \n",
       "2015-01-05  69.745918      90.799830     NaN      0.0  0.00   0.0  40.0    1   \n",
       "\n",
       "            Feb  Mar  Apr  May  Jun  Jul  Aug  Sep  Oct  Nov  Dec  \n",
       "date                                                               \n",
       "2015-01-01    0    0    0    0    0    0    0    0    0    0    0  \n",
       "2015-01-02    0    0    0    0    0    0    0    0    0    0    0  \n",
       "2015-01-03    0    0    0    0    0    0    0    0    0    0    0  \n",
       "2015-01-04    0    0    0    0    0    0    0    0    0    0    0  \n",
       "2015-01-05    0    0    0    0    0    0    0    0    0    0    0  "
      ]
     },
     "execution_count": 19,
     "metadata": {},
     "output_type": "execute_result"
    }
   ],
   "source": [
    "months = ['Jan','Feb','Mar','Apr','May','Jun','Jul','Aug','Sep','Oct','Nov','Dec']\n",
    "for i in range(12):\n",
    "    mbta[months[i]] = (mbta.index.month == (i+1)).astype(int)\n",
    "\n",
    "mbta.head()"
   ]
  },
  {
   "cell_type": "markdown",
   "metadata": {},
   "source": [
    "#### Merge Week Data"
   ]
  },
  {
   "cell_type": "code",
   "execution_count": 20,
   "metadata": {
    "scrolled": true
   },
   "outputs": [
    {
     "data": {
      "text/html": [
       "<div>\n",
       "<style scoped>\n",
       "    .dataframe tbody tr th:only-of-type {\n",
       "        vertical-align: middle;\n",
       "    }\n",
       "\n",
       "    .dataframe tbody tr th {\n",
       "        vertical-align: top;\n",
       "    }\n",
       "\n",
       "    .dataframe thead th {\n",
       "        text-align: right;\n",
       "    }\n",
       "</style>\n",
       "<table border=\"1\" class=\"dataframe\">\n",
       "  <thead>\n",
       "    <tr style=\"text-align: right;\">\n",
       "      <th></th>\n",
       "      <th>bus</th>\n",
       "      <th>commuter rail</th>\n",
       "      <th>subway</th>\n",
       "      <th>HOLIDAY</th>\n",
       "      <th>PRCP</th>\n",
       "      <th>SNOW</th>\n",
       "      <th>TAVG</th>\n",
       "      <th>Jan</th>\n",
       "      <th>Feb</th>\n",
       "      <th>Mar</th>\n",
       "      <th>...</th>\n",
       "      <th>Oct</th>\n",
       "      <th>Nov</th>\n",
       "      <th>Dec</th>\n",
       "      <th>Mon</th>\n",
       "      <th>Tue</th>\n",
       "      <th>Wed</th>\n",
       "      <th>Thu</th>\n",
       "      <th>Fri</th>\n",
       "      <th>Sat</th>\n",
       "      <th>Sun</th>\n",
       "    </tr>\n",
       "    <tr>\n",
       "      <th>date</th>\n",
       "      <th></th>\n",
       "      <th></th>\n",
       "      <th></th>\n",
       "      <th></th>\n",
       "      <th></th>\n",
       "      <th></th>\n",
       "      <th></th>\n",
       "      <th></th>\n",
       "      <th></th>\n",
       "      <th></th>\n",
       "      <th></th>\n",
       "      <th></th>\n",
       "      <th></th>\n",
       "      <th></th>\n",
       "      <th></th>\n",
       "      <th></th>\n",
       "      <th></th>\n",
       "      <th></th>\n",
       "      <th></th>\n",
       "      <th></th>\n",
       "      <th></th>\n",
       "    </tr>\n",
       "  </thead>\n",
       "  <tbody>\n",
       "    <tr>\n",
       "      <th>2015-01-01</th>\n",
       "      <td>71.387627</td>\n",
       "      <td>96.902719</td>\n",
       "      <td>NaN</td>\n",
       "      <td>1.0</td>\n",
       "      <td>0.00</td>\n",
       "      <td>0.0</td>\n",
       "      <td>26.0</td>\n",
       "      <td>1</td>\n",
       "      <td>0</td>\n",
       "      <td>0</td>\n",
       "      <td>...</td>\n",
       "      <td>0</td>\n",
       "      <td>0</td>\n",
       "      <td>0</td>\n",
       "      <td>0</td>\n",
       "      <td>0</td>\n",
       "      <td>0</td>\n",
       "      <td>1</td>\n",
       "      <td>0</td>\n",
       "      <td>0</td>\n",
       "      <td>0</td>\n",
       "    </tr>\n",
       "    <tr>\n",
       "      <th>2015-01-02</th>\n",
       "      <td>68.407700</td>\n",
       "      <td>95.928483</td>\n",
       "      <td>NaN</td>\n",
       "      <td>0.0</td>\n",
       "      <td>0.00</td>\n",
       "      <td>0.0</td>\n",
       "      <td>34.0</td>\n",
       "      <td>1</td>\n",
       "      <td>0</td>\n",
       "      <td>0</td>\n",
       "      <td>...</td>\n",
       "      <td>0</td>\n",
       "      <td>0</td>\n",
       "      <td>0</td>\n",
       "      <td>0</td>\n",
       "      <td>0</td>\n",
       "      <td>0</td>\n",
       "      <td>0</td>\n",
       "      <td>1</td>\n",
       "      <td>0</td>\n",
       "      <td>0</td>\n",
       "    </tr>\n",
       "    <tr>\n",
       "      <th>2015-01-03</th>\n",
       "      <td>70.873196</td>\n",
       "      <td>94.176722</td>\n",
       "      <td>NaN</td>\n",
       "      <td>0.0</td>\n",
       "      <td>0.62</td>\n",
       "      <td>1.4</td>\n",
       "      <td>28.0</td>\n",
       "      <td>1</td>\n",
       "      <td>0</td>\n",
       "      <td>0</td>\n",
       "      <td>...</td>\n",
       "      <td>0</td>\n",
       "      <td>0</td>\n",
       "      <td>0</td>\n",
       "      <td>0</td>\n",
       "      <td>0</td>\n",
       "      <td>0</td>\n",
       "      <td>0</td>\n",
       "      <td>0</td>\n",
       "      <td>1</td>\n",
       "      <td>0</td>\n",
       "    </tr>\n",
       "    <tr>\n",
       "      <th>2015-01-04</th>\n",
       "      <td>72.449728</td>\n",
       "      <td>97.073413</td>\n",
       "      <td>NaN</td>\n",
       "      <td>0.0</td>\n",
       "      <td>0.57</td>\n",
       "      <td>0.0</td>\n",
       "      <td>38.0</td>\n",
       "      <td>1</td>\n",
       "      <td>0</td>\n",
       "      <td>0</td>\n",
       "      <td>...</td>\n",
       "      <td>0</td>\n",
       "      <td>0</td>\n",
       "      <td>0</td>\n",
       "      <td>0</td>\n",
       "      <td>0</td>\n",
       "      <td>0</td>\n",
       "      <td>0</td>\n",
       "      <td>0</td>\n",
       "      <td>0</td>\n",
       "      <td>1</td>\n",
       "    </tr>\n",
       "    <tr>\n",
       "      <th>2015-01-05</th>\n",
       "      <td>69.745918</td>\n",
       "      <td>90.799830</td>\n",
       "      <td>NaN</td>\n",
       "      <td>0.0</td>\n",
       "      <td>0.00</td>\n",
       "      <td>0.0</td>\n",
       "      <td>40.0</td>\n",
       "      <td>1</td>\n",
       "      <td>0</td>\n",
       "      <td>0</td>\n",
       "      <td>...</td>\n",
       "      <td>0</td>\n",
       "      <td>0</td>\n",
       "      <td>0</td>\n",
       "      <td>1</td>\n",
       "      <td>0</td>\n",
       "      <td>0</td>\n",
       "      <td>0</td>\n",
       "      <td>0</td>\n",
       "      <td>0</td>\n",
       "      <td>0</td>\n",
       "    </tr>\n",
       "  </tbody>\n",
       "</table>\n",
       "<p>5 rows × 26 columns</p>\n",
       "</div>"
      ],
      "text/plain": [
       "                  bus  commuter rail  subway  HOLIDAY  PRCP  SNOW  TAVG  Jan  \\\n",
       "date                                                                           \n",
       "2015-01-01  71.387627      96.902719     NaN      1.0  0.00   0.0  26.0    1   \n",
       "2015-01-02  68.407700      95.928483     NaN      0.0  0.00   0.0  34.0    1   \n",
       "2015-01-03  70.873196      94.176722     NaN      0.0  0.62   1.4  28.0    1   \n",
       "2015-01-04  72.449728      97.073413     NaN      0.0  0.57   0.0  38.0    1   \n",
       "2015-01-05  69.745918      90.799830     NaN      0.0  0.00   0.0  40.0    1   \n",
       "\n",
       "            Feb  Mar  ...  Oct  Nov  Dec  Mon  Tue  Wed  Thu  Fri  Sat  Sun  \n",
       "date                  ...                                                    \n",
       "2015-01-01    0    0  ...    0    0    0    0    0    0    1    0    0    0  \n",
       "2015-01-02    0    0  ...    0    0    0    0    0    0    0    1    0    0  \n",
       "2015-01-03    0    0  ...    0    0    0    0    0    0    0    0    1    0  \n",
       "2015-01-04    0    0  ...    0    0    0    0    0    0    0    0    0    1  \n",
       "2015-01-05    0    0  ...    0    0    0    1    0    0    0    0    0    0  \n",
       "\n",
       "[5 rows x 26 columns]"
      ]
     },
     "execution_count": 20,
     "metadata": {},
     "output_type": "execute_result"
    }
   ],
   "source": [
    "days = ['Mon','Tue','Wed','Thu','Fri','Sat','Sun']\n",
    "for i in range(7):\n",
    "    mbta[days[i]] = (mbta.index.dayofweek == i).astype(int)\n",
    "\n",
    "mbta.head()"
   ]
  },
  {
   "cell_type": "markdown",
   "metadata": {},
   "source": [
    "#### Linear Regression & Prediction for Bus"
   ]
  },
  {
   "cell_type": "code",
   "execution_count": 21,
   "metadata": {
    "scrolled": false
   },
   "outputs": [
    {
     "data": {
      "text/html": [
       "<div>\n",
       "<style scoped>\n",
       "    .dataframe tbody tr th:only-of-type {\n",
       "        vertical-align: middle;\n",
       "    }\n",
       "\n",
       "    .dataframe tbody tr th {\n",
       "        vertical-align: top;\n",
       "    }\n",
       "\n",
       "    .dataframe thead th {\n",
       "        text-align: right;\n",
       "    }\n",
       "</style>\n",
       "<table border=\"1\" class=\"dataframe\">\n",
       "  <thead>\n",
       "    <tr style=\"text-align: right;\">\n",
       "      <th></th>\n",
       "      <th>Mon</th>\n",
       "      <th>Tue</th>\n",
       "      <th>Wed</th>\n",
       "      <th>Thu</th>\n",
       "      <th>Fri</th>\n",
       "      <th>Sat</th>\n",
       "      <th>Sun</th>\n",
       "      <th>Jan</th>\n",
       "      <th>Feb</th>\n",
       "      <th>Mar</th>\n",
       "      <th>...</th>\n",
       "      <th>Sep</th>\n",
       "      <th>Oct</th>\n",
       "      <th>Nov</th>\n",
       "      <th>Dec</th>\n",
       "      <th>PRCP</th>\n",
       "      <th>HOLIDAY</th>\n",
       "      <th>SNOW</th>\n",
       "      <th>TAVG</th>\n",
       "      <th>bus</th>\n",
       "      <th>predicted</th>\n",
       "    </tr>\n",
       "    <tr>\n",
       "      <th>date</th>\n",
       "      <th></th>\n",
       "      <th></th>\n",
       "      <th></th>\n",
       "      <th></th>\n",
       "      <th></th>\n",
       "      <th></th>\n",
       "      <th></th>\n",
       "      <th></th>\n",
       "      <th></th>\n",
       "      <th></th>\n",
       "      <th></th>\n",
       "      <th></th>\n",
       "      <th></th>\n",
       "      <th></th>\n",
       "      <th></th>\n",
       "      <th></th>\n",
       "      <th></th>\n",
       "      <th></th>\n",
       "      <th></th>\n",
       "      <th></th>\n",
       "      <th></th>\n",
       "    </tr>\n",
       "  </thead>\n",
       "  <tbody>\n",
       "    <tr>\n",
       "      <th>2015-01-01</th>\n",
       "      <td>0</td>\n",
       "      <td>0</td>\n",
       "      <td>0</td>\n",
       "      <td>1</td>\n",
       "      <td>0</td>\n",
       "      <td>0</td>\n",
       "      <td>0</td>\n",
       "      <td>1</td>\n",
       "      <td>0</td>\n",
       "      <td>0</td>\n",
       "      <td>...</td>\n",
       "      <td>0</td>\n",
       "      <td>0</td>\n",
       "      <td>0</td>\n",
       "      <td>0</td>\n",
       "      <td>0.00</td>\n",
       "      <td>1.0</td>\n",
       "      <td>0.0</td>\n",
       "      <td>26.0</td>\n",
       "      <td>71.387627</td>\n",
       "      <td>70.114327</td>\n",
       "    </tr>\n",
       "    <tr>\n",
       "      <th>2015-01-02</th>\n",
       "      <td>0</td>\n",
       "      <td>0</td>\n",
       "      <td>0</td>\n",
       "      <td>0</td>\n",
       "      <td>1</td>\n",
       "      <td>0</td>\n",
       "      <td>0</td>\n",
       "      <td>1</td>\n",
       "      <td>0</td>\n",
       "      <td>0</td>\n",
       "      <td>...</td>\n",
       "      <td>0</td>\n",
       "      <td>0</td>\n",
       "      <td>0</td>\n",
       "      <td>0</td>\n",
       "      <td>0.00</td>\n",
       "      <td>0.0</td>\n",
       "      <td>0.0</td>\n",
       "      <td>34.0</td>\n",
       "      <td>68.407700</td>\n",
       "      <td>66.324622</td>\n",
       "    </tr>\n",
       "    <tr>\n",
       "      <th>2015-01-03</th>\n",
       "      <td>0</td>\n",
       "      <td>0</td>\n",
       "      <td>0</td>\n",
       "      <td>0</td>\n",
       "      <td>0</td>\n",
       "      <td>1</td>\n",
       "      <td>0</td>\n",
       "      <td>1</td>\n",
       "      <td>0</td>\n",
       "      <td>0</td>\n",
       "      <td>...</td>\n",
       "      <td>0</td>\n",
       "      <td>0</td>\n",
       "      <td>0</td>\n",
       "      <td>0</td>\n",
       "      <td>0.62</td>\n",
       "      <td>0.0</td>\n",
       "      <td>1.4</td>\n",
       "      <td>28.0</td>\n",
       "      <td>70.873196</td>\n",
       "      <td>71.409567</td>\n",
       "    </tr>\n",
       "    <tr>\n",
       "      <th>2015-01-04</th>\n",
       "      <td>0</td>\n",
       "      <td>0</td>\n",
       "      <td>0</td>\n",
       "      <td>0</td>\n",
       "      <td>0</td>\n",
       "      <td>0</td>\n",
       "      <td>1</td>\n",
       "      <td>1</td>\n",
       "      <td>0</td>\n",
       "      <td>0</td>\n",
       "      <td>...</td>\n",
       "      <td>0</td>\n",
       "      <td>0</td>\n",
       "      <td>0</td>\n",
       "      <td>0</td>\n",
       "      <td>0.57</td>\n",
       "      <td>0.0</td>\n",
       "      <td>0.0</td>\n",
       "      <td>38.0</td>\n",
       "      <td>72.449728</td>\n",
       "      <td>72.291677</td>\n",
       "    </tr>\n",
       "    <tr>\n",
       "      <th>2015-01-05</th>\n",
       "      <td>1</td>\n",
       "      <td>0</td>\n",
       "      <td>0</td>\n",
       "      <td>0</td>\n",
       "      <td>0</td>\n",
       "      <td>0</td>\n",
       "      <td>0</td>\n",
       "      <td>1</td>\n",
       "      <td>0</td>\n",
       "      <td>0</td>\n",
       "      <td>...</td>\n",
       "      <td>0</td>\n",
       "      <td>0</td>\n",
       "      <td>0</td>\n",
       "      <td>0</td>\n",
       "      <td>0.00</td>\n",
       "      <td>0.0</td>\n",
       "      <td>0.0</td>\n",
       "      <td>40.0</td>\n",
       "      <td>69.745918</td>\n",
       "      <td>70.303986</td>\n",
       "    </tr>\n",
       "  </tbody>\n",
       "</table>\n",
       "<p>5 rows × 25 columns</p>\n",
       "</div>"
      ],
      "text/plain": [
       "            Mon  Tue  Wed  Thu  Fri  Sat  Sun  Jan  Feb  Mar  ...  Sep  Oct  \\\n",
       "date                                                          ...             \n",
       "2015-01-01    0    0    0    1    0    0    0    1    0    0  ...    0    0   \n",
       "2015-01-02    0    0    0    0    1    0    0    1    0    0  ...    0    0   \n",
       "2015-01-03    0    0    0    0    0    1    0    1    0    0  ...    0    0   \n",
       "2015-01-04    0    0    0    0    0    0    1    1    0    0  ...    0    0   \n",
       "2015-01-05    1    0    0    0    0    0    0    1    0    0  ...    0    0   \n",
       "\n",
       "            Nov  Dec  PRCP  HOLIDAY  SNOW  TAVG        bus  predicted  \n",
       "date                                                                   \n",
       "2015-01-01    0    0  0.00      1.0   0.0  26.0  71.387627  70.114327  \n",
       "2015-01-02    0    0  0.00      0.0   0.0  34.0  68.407700  66.324622  \n",
       "2015-01-03    0    0  0.62      0.0   1.4  28.0  70.873196  71.409567  \n",
       "2015-01-04    0    0  0.57      0.0   0.0  38.0  72.449728  72.291677  \n",
       "2015-01-05    0    0  0.00      0.0   0.0  40.0  69.745918  70.303986  \n",
       "\n",
       "[5 rows x 25 columns]"
      ]
     },
     "execution_count": 21,
     "metadata": {},
     "output_type": "execute_result"
    }
   ],
   "source": [
    "column_names = ['Mon','Tue','Wed','Thu','Fri','Sat','Sun','Jan','Feb','Mar','Apr','May',\n",
    "                'Jun','Jul','Aug','Sep','Oct','Nov','Dec','PRCP','HOLIDAY','SNOW','TAVG']\n",
    "\n",
    "linear_bus = mbta[['Mon','Tue','Wed','Thu','Fri','Sat','Sun','Jan','Feb','Mar','Apr','May',\n",
    "                   'Jun','Jul','Aug','Sep','Oct','Nov','Dec','PRCP','HOLIDAY','SNOW','TAVG','bus']]\n",
    "# drop naa\n",
    "linear_bus = linear_bus.dropna()\n",
    "\n",
    "x = linear_bus[column_names]\n",
    "y = linear_bus[['bus']]\n",
    "\n",
    "# fit values\n",
    "model = LinearRegression(fit_intercept=False)\n",
    "model.fit(x, y)\n",
    "\n",
    "# prediction\n",
    "linear_bus['predicted'] = model.predict(x)\n",
    "linear_bus.head()"
   ]
  },
  {
   "cell_type": "markdown",
   "metadata": {},
   "source": [
    "#### Draw Comparison Figure"
   ]
  },
  {
   "cell_type": "code",
   "execution_count": 22,
   "metadata": {
    "scrolled": false
   },
   "outputs": [
    {
     "data": {
      "image/png": "[encoded data removed]",
      "text/plain": [
       "<Figure size 576x360 with 1 Axes>"
      ]
     },
     "metadata": {
      "needs_background": "light"
     },
     "output_type": "display_data"
    }
   ],
   "source": [
    "linear_bus[['bus', 'predicted']].plot(alpha=0.9, figsize=(8,5));\n",
    "\n",
    "'''\n",
    "Linear Regression really simulates the trend of the whole years\n",
    "But there still has large error compared with test data\n",
    "'''"
   ]
  },
  {
   "cell_type": "code",
   "execution_count": 27,
   "metadata": {
    "scrolled": false
   },
   "outputs": [
    {
     "name": "stdout",
     "output_type": "stream",
     "text": [
      "Mean squared error: 24.64\n",
      "Variance score: 0.33\n"
     ]
    },
    {
     "data": {
      "text/plain": [
       "Mon        41.492667\n",
       "Tue        38.563591\n",
       "Wed        37.957069\n",
       "Thu        36.770474\n",
       "Fri        37.679568\n",
       "Sat        42.829158\n",
       "Sun        42.597679\n",
       "Jan        27.702886\n",
       "Feb        23.949668\n",
       "Mar        26.140459\n",
       "Apr        24.602299\n",
       "May        19.865811\n",
       "Jun        20.023519\n",
       "Jul        23.010389\n",
       "Aug        24.607465\n",
       "Sep        19.068092\n",
       "Oct        20.262052\n",
       "Nov        23.005207\n",
       "Dec        25.652360\n",
       "PRCP        1.645790\n",
       "HOLIDAY     4.920487\n",
       "SNOW       -0.656264\n",
       "TAVG        0.027711\n",
       "dtype: float64"
      ]
     },
     "execution_count": 27,
     "metadata": {},
     "output_type": "execute_result"
    },
    {
     "data": {
      "image/png": "[encoded data removed]",
      "text/plain": [
       "<Figure size 432x288 with 1 Axes>"
      ]
     },
     "metadata": {
      "needs_background": "light"
     },
     "output_type": "display_data"
    }
   ],
   "source": [
    "plt.scatter(linear_bus.bus, linear_bus.predicted);\n",
    "\n",
    "'''\n",
    "From this figure, it's difficult to find a linear relation.\n",
    "So it's not a good idea to use linear regression.\n",
    "Then I will try Logistic Regression.\n",
    "'''\n",
    "\n",
    "#Show Model Params & Error & Score\n",
    "params = pd.Series(np.reshape(model.coef_,23), index=column_names)\n",
    "\n",
    "print(\"Mean squared error: {:.2f}\".format(\n",
    "        mean_squared_error(linear_bus['bus'], linear_bus['predicted'])))\n",
    "\n",
    "print(\"Variance score: {:.2f}\".format(\n",
    "    r2_score(linear_bus['bus'], linear_bus['predicted'])))\n",
    "\n",
    "params"
   ]
  },
  {
   "cell_type": "markdown",
   "metadata": {},
   "source": [
    "#### Logistic Regression & Prediction for Bus"
   ]
  },
  {
   "cell_type": "code",
   "execution_count": 28,
   "metadata": {
    "scrolled": true
   },
   "outputs": [
    {
     "data": {
      "text/plain": [
       "count    1455.000000\n",
       "mean       64.509048\n",
       "std         6.066176\n",
       "min        33.101526\n",
       "25%        60.986798\n",
       "50%        64.537554\n",
       "75%        68.546183\n",
       "max        81.692557\n",
       "Name: bus, dtype: float64"
      ]
     },
     "execution_count": 28,
     "metadata": {},
     "output_type": "execute_result"
    }
   ],
   "source": [
    "# Show detail info about bus data\n",
    "mbta['bus'].dropna().describe()"
   ]
  },
  {
   "cell_type": "markdown",
   "metadata": {},
   "source": [
    "#### Define Performance"
   ]
  },
  {
   "cell_type": "code",
   "execution_count": 29,
   "metadata": {},
   "outputs": [
    {
     "data": {
      "text/html": [
       "<div>\n",
       "<style scoped>\n",
       "    .dataframe tbody tr th:only-of-type {\n",
       "        vertical-align: middle;\n",
       "    }\n",
       "\n",
       "    .dataframe tbody tr th {\n",
       "        vertical-align: top;\n",
       "    }\n",
       "\n",
       "    .dataframe thead th {\n",
       "        text-align: right;\n",
       "    }\n",
       "</style>\n",
       "<table border=\"1\" class=\"dataframe\">\n",
       "  <thead>\n",
       "    <tr style=\"text-align: right;\">\n",
       "      <th></th>\n",
       "      <th>Mon</th>\n",
       "      <th>Tue</th>\n",
       "      <th>Wed</th>\n",
       "      <th>Thu</th>\n",
       "      <th>Fri</th>\n",
       "      <th>Sat</th>\n",
       "      <th>Sun</th>\n",
       "      <th>Jan</th>\n",
       "      <th>Feb</th>\n",
       "      <th>Mar</th>\n",
       "      <th>...</th>\n",
       "      <th>Sep</th>\n",
       "      <th>Oct</th>\n",
       "      <th>Nov</th>\n",
       "      <th>Dec</th>\n",
       "      <th>PRCP</th>\n",
       "      <th>HOLIDAY</th>\n",
       "      <th>SNOW</th>\n",
       "      <th>TAVG</th>\n",
       "      <th>bus</th>\n",
       "      <th>performance</th>\n",
       "    </tr>\n",
       "    <tr>\n",
       "      <th>date</th>\n",
       "      <th></th>\n",
       "      <th></th>\n",
       "      <th></th>\n",
       "      <th></th>\n",
       "      <th></th>\n",
       "      <th></th>\n",
       "      <th></th>\n",
       "      <th></th>\n",
       "      <th></th>\n",
       "      <th></th>\n",
       "      <th></th>\n",
       "      <th></th>\n",
       "      <th></th>\n",
       "      <th></th>\n",
       "      <th></th>\n",
       "      <th></th>\n",
       "      <th></th>\n",
       "      <th></th>\n",
       "      <th></th>\n",
       "      <th></th>\n",
       "      <th></th>\n",
       "    </tr>\n",
       "  </thead>\n",
       "  <tbody>\n",
       "    <tr>\n",
       "      <th>2015-01-01</th>\n",
       "      <td>0</td>\n",
       "      <td>0</td>\n",
       "      <td>0</td>\n",
       "      <td>1</td>\n",
       "      <td>0</td>\n",
       "      <td>0</td>\n",
       "      <td>0</td>\n",
       "      <td>1</td>\n",
       "      <td>0</td>\n",
       "      <td>0</td>\n",
       "      <td>...</td>\n",
       "      <td>0</td>\n",
       "      <td>0</td>\n",
       "      <td>0</td>\n",
       "      <td>0</td>\n",
       "      <td>0.00</td>\n",
       "      <td>1.0</td>\n",
       "      <td>0.0</td>\n",
       "      <td>26.0</td>\n",
       "      <td>71.387627</td>\n",
       "      <td>good</td>\n",
       "    </tr>\n",
       "    <tr>\n",
       "      <th>2015-01-02</th>\n",
       "      <td>0</td>\n",
       "      <td>0</td>\n",
       "      <td>0</td>\n",
       "      <td>0</td>\n",
       "      <td>1</td>\n",
       "      <td>0</td>\n",
       "      <td>0</td>\n",
       "      <td>1</td>\n",
       "      <td>0</td>\n",
       "      <td>0</td>\n",
       "      <td>...</td>\n",
       "      <td>0</td>\n",
       "      <td>0</td>\n",
       "      <td>0</td>\n",
       "      <td>0</td>\n",
       "      <td>0.00</td>\n",
       "      <td>0.0</td>\n",
       "      <td>0.0</td>\n",
       "      <td>34.0</td>\n",
       "      <td>68.407700</td>\n",
       "      <td>delay</td>\n",
       "    </tr>\n",
       "    <tr>\n",
       "      <th>2015-01-03</th>\n",
       "      <td>0</td>\n",
       "      <td>0</td>\n",
       "      <td>0</td>\n",
       "      <td>0</td>\n",
       "      <td>0</td>\n",
       "      <td>1</td>\n",
       "      <td>0</td>\n",
       "      <td>1</td>\n",
       "      <td>0</td>\n",
       "      <td>0</td>\n",
       "      <td>...</td>\n",
       "      <td>0</td>\n",
       "      <td>0</td>\n",
       "      <td>0</td>\n",
       "      <td>0</td>\n",
       "      <td>0.62</td>\n",
       "      <td>0.0</td>\n",
       "      <td>1.4</td>\n",
       "      <td>28.0</td>\n",
       "      <td>70.873196</td>\n",
       "      <td>good</td>\n",
       "    </tr>\n",
       "    <tr>\n",
       "      <th>2015-01-04</th>\n",
       "      <td>0</td>\n",
       "      <td>0</td>\n",
       "      <td>0</td>\n",
       "      <td>0</td>\n",
       "      <td>0</td>\n",
       "      <td>0</td>\n",
       "      <td>1</td>\n",
       "      <td>1</td>\n",
       "      <td>0</td>\n",
       "      <td>0</td>\n",
       "      <td>...</td>\n",
       "      <td>0</td>\n",
       "      <td>0</td>\n",
       "      <td>0</td>\n",
       "      <td>0</td>\n",
       "      <td>0.57</td>\n",
       "      <td>0.0</td>\n",
       "      <td>0.0</td>\n",
       "      <td>38.0</td>\n",
       "      <td>72.449728</td>\n",
       "      <td>good</td>\n",
       "    </tr>\n",
       "    <tr>\n",
       "      <th>2015-01-05</th>\n",
       "      <td>1</td>\n",
       "      <td>0</td>\n",
       "      <td>0</td>\n",
       "      <td>0</td>\n",
       "      <td>0</td>\n",
       "      <td>0</td>\n",
       "      <td>0</td>\n",
       "      <td>1</td>\n",
       "      <td>0</td>\n",
       "      <td>0</td>\n",
       "      <td>...</td>\n",
       "      <td>0</td>\n",
       "      <td>0</td>\n",
       "      <td>0</td>\n",
       "      <td>0</td>\n",
       "      <td>0.00</td>\n",
       "      <td>0.0</td>\n",
       "      <td>0.0</td>\n",
       "      <td>40.0</td>\n",
       "      <td>69.745918</td>\n",
       "      <td>delay</td>\n",
       "    </tr>\n",
       "  </tbody>\n",
       "</table>\n",
       "<p>5 rows × 25 columns</p>\n",
       "</div>"
      ],
      "text/plain": [
       "            Mon  Tue  Wed  Thu  Fri  Sat  Sun  Jan  Feb  Mar  ...  Sep  Oct  \\\n",
       "date                                                          ...             \n",
       "2015-01-01    0    0    0    1    0    0    0    1    0    0  ...    0    0   \n",
       "2015-01-02    0    0    0    0    1    0    0    1    0    0  ...    0    0   \n",
       "2015-01-03    0    0    0    0    0    1    0    1    0    0  ...    0    0   \n",
       "2015-01-04    0    0    0    0    0    0    1    1    0    0  ...    0    0   \n",
       "2015-01-05    1    0    0    0    0    0    0    1    0    0  ...    0    0   \n",
       "\n",
       "            Nov  Dec  PRCP  HOLIDAY  SNOW  TAVG        bus  performance  \n",
       "date                                                                     \n",
       "2015-01-01    0    0  0.00      1.0   0.0  26.0  71.387627         good  \n",
       "2015-01-02    0    0  0.00      0.0   0.0  34.0  68.407700        delay  \n",
       "2015-01-03    0    0  0.62      0.0   1.4  28.0  70.873196         good  \n",
       "2015-01-04    0    0  0.57      0.0   0.0  38.0  72.449728         good  \n",
       "2015-01-05    0    0  0.00      0.0   0.0  40.0  69.745918        delay  \n",
       "\n",
       "[5 rows x 25 columns]"
      ]
     },
     "execution_count": 29,
     "metadata": {},
     "output_type": "execute_result"
    }
   ],
   "source": [
    "logistic_bus = mbta[['Mon','Tue','Wed','Thu','Fri','Sat','Sun','Jan','Feb','Mar',\n",
    "                     'Apr','May','Jun','Jul','Aug','Sep','Oct','Nov','Dec','PRCP',\n",
    "                     'HOLIDAY','SNOW','TAVG','bus']].copy()\n",
    "logistic_bus.dropna()\n",
    "\n",
    "# define performance based on reliability value\n",
    "logistic_bus['performance'] = logistic_bus['bus'].apply(lambda x: 'good' if x > 70 else \n",
    "                                                        ('bad' if x < 50 else 'delay'))\n",
    "logistic_bus.head()"
   ]
  },
  {
   "cell_type": "markdown",
   "metadata": {},
   "source": [
    "#### Logistic Regression"
   ]
  },
  {
   "cell_type": "code",
   "execution_count": 30,
   "metadata": {
    "scrolled": true
   },
   "outputs": [
    {
     "data": {
      "text/plain": [
       "array([[ 0. ,  0. ,  0. , ...,  1. ,  0. , 26. ],\n",
       "       [ 0. ,  0. ,  0. , ...,  0. ,  0. , 34. ],\n",
       "       [ 0. ,  0. ,  0. , ...,  0. ,  1.4, 28. ],\n",
       "       ...,\n",
       "       [ 0. ,  0. ,  0. , ...,  0. ,  0. , 49. ],\n",
       "       [ 0. ,  0. ,  0. , ...,  0. ,  0. , 32. ],\n",
       "       [ 1. ,  0. ,  0. , ...,  0. ,  0. , 36. ]])"
      ]
     },
     "execution_count": 30,
     "metadata": {},
     "output_type": "execute_result"
    }
   ],
   "source": [
    "# input\n",
    "x = np.array(logistic_bus[['Mon','Tue','Wed','Thu','Fri','Sat','Sun','Jan',\n",
    "                           'Feb','Mar','Apr','May','Jun','Jul','Aug','Sep',\n",
    "                           'Oct','Nov','Dec','PRCP','HOLIDAY','SNOW','TAVG']])\n",
    "x"
   ]
  },
  {
   "cell_type": "code",
   "execution_count": 31,
   "metadata": {},
   "outputs": [
    {
     "data": {
      "text/plain": [
       "array([['good'],\n",
       "       ['delay'],\n",
       "       ['good'],\n",
       "       ...,\n",
       "       ['good'],\n",
       "       ['good'],\n",
       "       ['delay']], dtype=object)"
      ]
     },
     "execution_count": 31,
     "metadata": {},
     "output_type": "execute_result"
    }
   ],
   "source": [
    "# output/target\n",
    "y = np.array(logistic_bus[['performance']])\n",
    "y"
   ]
  },
  {
   "cell_type": "code",
   "execution_count": 32,
   "metadata": {
    "scrolled": false
   },
   "outputs": [
    {
     "name": "stderr",
     "output_type": "stream",
     "text": [
      "/Library/Frameworks/Python.framework/Versions/3.7/lib/python3.7/site-packages/sklearn/utils/validation.py:761: DataConversionWarning: A column-vector y was passed when a 1d array was expected. Please change the shape of y to (n_samples, ), for example using ravel().\n",
      "  y = column_or_1d(y, warn=True)\n",
      "/Library/Frameworks/Python.framework/Versions/3.7/lib/python3.7/site-packages/sklearn/linear_model/logistic.py:758: ConvergenceWarning: lbfgs failed to converge. Increase the number of iterations.\n",
      "  \"of iterations.\", ConvergenceWarning)\n"
     ]
    },
    {
     "data": {
      "text/plain": [
       "LogisticRegression(C=1.0, class_weight=None, dual=False, fit_intercept=True,\n",
       "          intercept_scaling=1, max_iter=100, multi_class='multinomial',\n",
       "          n_jobs=None, penalty='l2', random_state=None, solver='lbfgs',\n",
       "          tol=0.0001, verbose=0, warm_start=False)"
      ]
     },
     "execution_count": 32,
     "metadata": {},
     "output_type": "execute_result"
    }
   ],
   "source": [
    "# fit input and output\n",
    "logreg = LogisticRegression(solver='lbfgs', multi_class='multinomial')\n",
    "logreg.fit(x, y)"
   ]
  },
  {
   "cell_type": "code",
   "execution_count": 33,
   "metadata": {},
   "outputs": [
    {
     "data": {
      "text/plain": [
       "array([[0.02345942, 0.13951445, 0.83702613],\n",
       "       [0.00657242, 0.75409031, 0.23933727],\n",
       "       [0.00791372, 0.27289541, 0.71919087],\n",
       "       [0.00137385, 0.26292297, 0.73570318],\n",
       "       [0.0026218 , 0.58139732, 0.41598088]])"
      ]
     },
     "execution_count": 33,
     "metadata": {},
     "output_type": "execute_result"
    }
   ],
   "source": [
    "# performance probility\n",
    "performance_probs = logreg.predict_proba(x)\n",
    "performance_probs[:5]"
   ]
  },
  {
   "cell_type": "code",
   "execution_count": 34,
   "metadata": {},
   "outputs": [
    {
     "data": {
      "text/html": [
       "<div>\n",
       "<style scoped>\n",
       "    .dataframe tbody tr th:only-of-type {\n",
       "        vertical-align: middle;\n",
       "    }\n",
       "\n",
       "    .dataframe tbody tr th {\n",
       "        vertical-align: top;\n",
       "    }\n",
       "\n",
       "    .dataframe thead th {\n",
       "        text-align: right;\n",
       "    }\n",
       "</style>\n",
       "<table border=\"1\" class=\"dataframe\">\n",
       "  <thead>\n",
       "    <tr style=\"text-align: right;\">\n",
       "      <th></th>\n",
       "      <th>performance</th>\n",
       "      <th>performance_pred</th>\n",
       "    </tr>\n",
       "    <tr>\n",
       "      <th>date</th>\n",
       "      <th></th>\n",
       "      <th></th>\n",
       "    </tr>\n",
       "  </thead>\n",
       "  <tbody>\n",
       "    <tr>\n",
       "      <th>2015-01-01</th>\n",
       "      <td>good</td>\n",
       "      <td>good</td>\n",
       "    </tr>\n",
       "    <tr>\n",
       "      <th>2015-01-02</th>\n",
       "      <td>delay</td>\n",
       "      <td>delay</td>\n",
       "    </tr>\n",
       "    <tr>\n",
       "      <th>2015-01-03</th>\n",
       "      <td>good</td>\n",
       "      <td>good</td>\n",
       "    </tr>\n",
       "    <tr>\n",
       "      <th>2015-01-04</th>\n",
       "      <td>good</td>\n",
       "      <td>good</td>\n",
       "    </tr>\n",
       "    <tr>\n",
       "      <th>2015-01-05</th>\n",
       "      <td>delay</td>\n",
       "      <td>delay</td>\n",
       "    </tr>\n",
       "    <tr>\n",
       "      <th>2015-01-06</th>\n",
       "      <td>delay</td>\n",
       "      <td>delay</td>\n",
       "    </tr>\n",
       "    <tr>\n",
       "      <th>2015-01-07</th>\n",
       "      <td>good</td>\n",
       "      <td>delay</td>\n",
       "    </tr>\n",
       "    <tr>\n",
       "      <th>2015-01-08</th>\n",
       "      <td>delay</td>\n",
       "      <td>good</td>\n",
       "    </tr>\n",
       "    <tr>\n",
       "      <th>2015-01-09</th>\n",
       "      <td>delay</td>\n",
       "      <td>delay</td>\n",
       "    </tr>\n",
       "    <tr>\n",
       "      <th>2015-01-10</th>\n",
       "      <td>good</td>\n",
       "      <td>good</td>\n",
       "    </tr>\n",
       "  </tbody>\n",
       "</table>\n",
       "</div>"
      ],
      "text/plain": [
       "           performance performance_pred\n",
       "date                                   \n",
       "2015-01-01        good             good\n",
       "2015-01-02       delay            delay\n",
       "2015-01-03        good             good\n",
       "2015-01-04        good             good\n",
       "2015-01-05       delay            delay\n",
       "2015-01-06       delay            delay\n",
       "2015-01-07        good            delay\n",
       "2015-01-08       delay             good\n",
       "2015-01-09       delay            delay\n",
       "2015-01-10        good             good"
      ]
     },
     "execution_count": 34,
     "metadata": {},
     "output_type": "execute_result"
    }
   ],
   "source": [
    "# predicted performance\n",
    "performance_pred = logreg.predict(x)\n",
    "logistic_bus['performance_pred'] = performance_pred\n",
    "logistic_bus[['performance', 'performance_pred']].head(10)"
   ]
  },
  {
   "cell_type": "code",
   "execution_count": 35,
   "metadata": {},
   "outputs": [
    {
     "name": "stdout",
     "output_type": "stream",
     "text": [
      "Score:  0.8294520547945206\n",
      "Accuracy:  0.8294520547945206\n"
     ]
    },
    {
     "data": {
      "text/plain": [
       "'\\nLinear Score: 0.33\\nLogistic Score: 0.8294520547945206\\nOverall, we can find in this data set, using Logistic Regression is better than Linear\\n'"
      ]
     },
     "execution_count": 35,
     "metadata": {},
     "output_type": "execute_result"
    },
    {
     "data": {
      "image/png": "[encoded data removed]",
      "text/plain": [
       "<Figure size 432x288 with 1 Axes>"
      ]
     },
     "metadata": {
      "needs_background": "light"
     },
     "output_type": "display_data"
    }
   ],
   "source": [
    "# show score\n",
    "print (\"Score: \", logreg.score(x, y))\n",
    "\n",
    "# show accuracy score\n",
    "print (\"Accuracy: \", metrics.accuracy_score(y, performance_pred))\n",
    "\n",
    "# show confusion matrix\n",
    "sns.heatmap(metrics.confusion_matrix(y, performance_pred), \n",
    "            square=True, annot=True, fmt='d', cbar=False,\n",
    "            xticklabels=['bad','delay','good'],\n",
    "            yticklabels=['bad','delay','good'])\n",
    "\n",
    "'''\n",
    "Linear Score: 0.33\n",
    "Logistic Score: 0.8294520547945206\n",
    "Overall, we can find in this data set, using Logistic Regression is better than Linear\n",
    "'''"
   ]
  },
  {
   "cell_type": "markdown",
   "metadata": {},
   "source": [
    "#### Principal Component Analysis (find most important attributes)"
   ]
  },
  {
   "cell_type": "code",
   "execution_count": 36,
   "metadata": {},
   "outputs": [
    {
     "data": {
      "text/html": [
       "<div>\n",
       "<style scoped>\n",
       "    .dataframe tbody tr th:only-of-type {\n",
       "        vertical-align: middle;\n",
       "    }\n",
       "\n",
       "    .dataframe tbody tr th {\n",
       "        vertical-align: top;\n",
       "    }\n",
       "\n",
       "    .dataframe thead th {\n",
       "        text-align: right;\n",
       "    }\n",
       "</style>\n",
       "<table border=\"1\" class=\"dataframe\">\n",
       "  <thead>\n",
       "    <tr style=\"text-align: right;\">\n",
       "      <th></th>\n",
       "      <th>Mon</th>\n",
       "      <th>Tue</th>\n",
       "      <th>Wed</th>\n",
       "      <th>Thu</th>\n",
       "      <th>Fri</th>\n",
       "      <th>Sat</th>\n",
       "      <th>Sun</th>\n",
       "      <th>Jan</th>\n",
       "      <th>Feb</th>\n",
       "      <th>Mar</th>\n",
       "      <th>...</th>\n",
       "      <th>Aug</th>\n",
       "      <th>Sep</th>\n",
       "      <th>Oct</th>\n",
       "      <th>Nov</th>\n",
       "      <th>Dec</th>\n",
       "      <th>PRCP</th>\n",
       "      <th>HOLIDAY</th>\n",
       "      <th>SNOW</th>\n",
       "      <th>TAVG</th>\n",
       "      <th>performance</th>\n",
       "    </tr>\n",
       "    <tr>\n",
       "      <th>date</th>\n",
       "      <th></th>\n",
       "      <th></th>\n",
       "      <th></th>\n",
       "      <th></th>\n",
       "      <th></th>\n",
       "      <th></th>\n",
       "      <th></th>\n",
       "      <th></th>\n",
       "      <th></th>\n",
       "      <th></th>\n",
       "      <th></th>\n",
       "      <th></th>\n",
       "      <th></th>\n",
       "      <th></th>\n",
       "      <th></th>\n",
       "      <th></th>\n",
       "      <th></th>\n",
       "      <th></th>\n",
       "      <th></th>\n",
       "      <th></th>\n",
       "      <th></th>\n",
       "    </tr>\n",
       "  </thead>\n",
       "  <tbody>\n",
       "    <tr>\n",
       "      <th>2015-01-01</th>\n",
       "      <td>0</td>\n",
       "      <td>0</td>\n",
       "      <td>0</td>\n",
       "      <td>1</td>\n",
       "      <td>0</td>\n",
       "      <td>0</td>\n",
       "      <td>0</td>\n",
       "      <td>1</td>\n",
       "      <td>0</td>\n",
       "      <td>0</td>\n",
       "      <td>...</td>\n",
       "      <td>0</td>\n",
       "      <td>0</td>\n",
       "      <td>0</td>\n",
       "      <td>0</td>\n",
       "      <td>0</td>\n",
       "      <td>0.00</td>\n",
       "      <td>1.0</td>\n",
       "      <td>0.0</td>\n",
       "      <td>26.0</td>\n",
       "      <td>good</td>\n",
       "    </tr>\n",
       "    <tr>\n",
       "      <th>2015-01-02</th>\n",
       "      <td>0</td>\n",
       "      <td>0</td>\n",
       "      <td>0</td>\n",
       "      <td>0</td>\n",
       "      <td>1</td>\n",
       "      <td>0</td>\n",
       "      <td>0</td>\n",
       "      <td>1</td>\n",
       "      <td>0</td>\n",
       "      <td>0</td>\n",
       "      <td>...</td>\n",
       "      <td>0</td>\n",
       "      <td>0</td>\n",
       "      <td>0</td>\n",
       "      <td>0</td>\n",
       "      <td>0</td>\n",
       "      <td>0.00</td>\n",
       "      <td>0.0</td>\n",
       "      <td>0.0</td>\n",
       "      <td>34.0</td>\n",
       "      <td>delay</td>\n",
       "    </tr>\n",
       "    <tr>\n",
       "      <th>2015-01-03</th>\n",
       "      <td>0</td>\n",
       "      <td>0</td>\n",
       "      <td>0</td>\n",
       "      <td>0</td>\n",
       "      <td>0</td>\n",
       "      <td>1</td>\n",
       "      <td>0</td>\n",
       "      <td>1</td>\n",
       "      <td>0</td>\n",
       "      <td>0</td>\n",
       "      <td>...</td>\n",
       "      <td>0</td>\n",
       "      <td>0</td>\n",
       "      <td>0</td>\n",
       "      <td>0</td>\n",
       "      <td>0</td>\n",
       "      <td>0.62</td>\n",
       "      <td>0.0</td>\n",
       "      <td>1.4</td>\n",
       "      <td>28.0</td>\n",
       "      <td>good</td>\n",
       "    </tr>\n",
       "    <tr>\n",
       "      <th>2015-01-04</th>\n",
       "      <td>0</td>\n",
       "      <td>0</td>\n",
       "      <td>0</td>\n",
       "      <td>0</td>\n",
       "      <td>0</td>\n",
       "      <td>0</td>\n",
       "      <td>1</td>\n",
       "      <td>1</td>\n",
       "      <td>0</td>\n",
       "      <td>0</td>\n",
       "      <td>...</td>\n",
       "      <td>0</td>\n",
       "      <td>0</td>\n",
       "      <td>0</td>\n",
       "      <td>0</td>\n",
       "      <td>0</td>\n",
       "      <td>0.57</td>\n",
       "      <td>0.0</td>\n",
       "      <td>0.0</td>\n",
       "      <td>38.0</td>\n",
       "      <td>good</td>\n",
       "    </tr>\n",
       "    <tr>\n",
       "      <th>2015-01-05</th>\n",
       "      <td>1</td>\n",
       "      <td>0</td>\n",
       "      <td>0</td>\n",
       "      <td>0</td>\n",
       "      <td>0</td>\n",
       "      <td>0</td>\n",
       "      <td>0</td>\n",
       "      <td>1</td>\n",
       "      <td>0</td>\n",
       "      <td>0</td>\n",
       "      <td>...</td>\n",
       "      <td>0</td>\n",
       "      <td>0</td>\n",
       "      <td>0</td>\n",
       "      <td>0</td>\n",
       "      <td>0</td>\n",
       "      <td>0.00</td>\n",
       "      <td>0.0</td>\n",
       "      <td>0.0</td>\n",
       "      <td>40.0</td>\n",
       "      <td>delay</td>\n",
       "    </tr>\n",
       "  </tbody>\n",
       "</table>\n",
       "<p>5 rows × 24 columns</p>\n",
       "</div>"
      ],
      "text/plain": [
       "            Mon  Tue  Wed  Thu  Fri  Sat  Sun  Jan  Feb  Mar  ...  Aug  Sep  \\\n",
       "date                                                          ...             \n",
       "2015-01-01    0    0    0    1    0    0    0    1    0    0  ...    0    0   \n",
       "2015-01-02    0    0    0    0    1    0    0    1    0    0  ...    0    0   \n",
       "2015-01-03    0    0    0    0    0    1    0    1    0    0  ...    0    0   \n",
       "2015-01-04    0    0    0    0    0    0    1    1    0    0  ...    0    0   \n",
       "2015-01-05    1    0    0    0    0    0    0    1    0    0  ...    0    0   \n",
       "\n",
       "            Oct  Nov  Dec  PRCP  HOLIDAY  SNOW  TAVG  performance  \n",
       "date                                                               \n",
       "2015-01-01    0    0    0  0.00      1.0   0.0  26.0         good  \n",
       "2015-01-02    0    0    0  0.00      0.0   0.0  34.0        delay  \n",
       "2015-01-03    0    0    0  0.62      0.0   1.4  28.0         good  \n",
       "2015-01-04    0    0    0  0.57      0.0   0.0  38.0         good  \n",
       "2015-01-05    0    0    0  0.00      0.0   0.0  40.0        delay  \n",
       "\n",
       "[5 rows x 24 columns]"
      ]
     },
     "execution_count": 36,
     "metadata": {},
     "output_type": "execute_result"
    }
   ],
   "source": [
    "# For Logistic Regression, find which attributes are important\n",
    "pca_data = logistic_bus[['Mon','Tue','Wed','Thu','Fri','Sat','Sun','Jan',\n",
    "                         'Feb','Mar','Apr','May','Jun','Jul','Aug','Sep',\n",
    "                         'Oct','Nov','Dec','PRCP','HOLIDAY','SNOW','TAVG','performance']]\n",
    "pca_data.head()"
   ]
  },
  {
   "cell_type": "code",
   "execution_count": 37,
   "metadata": {
    "scrolled": false
   },
   "outputs": [
    {
     "data": {
      "text/html": [
       "<div>\n",
       "<style scoped>\n",
       "    .dataframe tbody tr th:only-of-type {\n",
       "        vertical-align: middle;\n",
       "    }\n",
       "\n",
       "    .dataframe tbody tr th {\n",
       "        vertical-align: top;\n",
       "    }\n",
       "\n",
       "    .dataframe thead th {\n",
       "        text-align: right;\n",
       "    }\n",
       "</style>\n",
       "<table border=\"1\" class=\"dataframe\">\n",
       "  <thead>\n",
       "    <tr style=\"text-align: right;\">\n",
       "      <th></th>\n",
       "      <th>Mon</th>\n",
       "      <th>Tue</th>\n",
       "      <th>Wed</th>\n",
       "      <th>Thu</th>\n",
       "      <th>Fri</th>\n",
       "      <th>Sat</th>\n",
       "      <th>Sun</th>\n",
       "      <th>Jan</th>\n",
       "      <th>Feb</th>\n",
       "      <th>Mar</th>\n",
       "      <th>...</th>\n",
       "      <th>Aug</th>\n",
       "      <th>Sep</th>\n",
       "      <th>Oct</th>\n",
       "      <th>Nov</th>\n",
       "      <th>Dec</th>\n",
       "      <th>PRCP</th>\n",
       "      <th>HOLIDAY</th>\n",
       "      <th>SNOW</th>\n",
       "      <th>TAVG</th>\n",
       "      <th>performance</th>\n",
       "    </tr>\n",
       "    <tr>\n",
       "      <th>date</th>\n",
       "      <th></th>\n",
       "      <th></th>\n",
       "      <th></th>\n",
       "      <th></th>\n",
       "      <th></th>\n",
       "      <th></th>\n",
       "      <th></th>\n",
       "      <th></th>\n",
       "      <th></th>\n",
       "      <th></th>\n",
       "      <th></th>\n",
       "      <th></th>\n",
       "      <th></th>\n",
       "      <th></th>\n",
       "      <th></th>\n",
       "      <th></th>\n",
       "      <th></th>\n",
       "      <th></th>\n",
       "      <th></th>\n",
       "      <th></th>\n",
       "      <th></th>\n",
       "    </tr>\n",
       "  </thead>\n",
       "  <tbody>\n",
       "    <tr>\n",
       "      <th>2015-01-01</th>\n",
       "      <td>0</td>\n",
       "      <td>0</td>\n",
       "      <td>0</td>\n",
       "      <td>1</td>\n",
       "      <td>0</td>\n",
       "      <td>0</td>\n",
       "      <td>0</td>\n",
       "      <td>1</td>\n",
       "      <td>0</td>\n",
       "      <td>0</td>\n",
       "      <td>...</td>\n",
       "      <td>0</td>\n",
       "      <td>0</td>\n",
       "      <td>0</td>\n",
       "      <td>0</td>\n",
       "      <td>0</td>\n",
       "      <td>0.000000</td>\n",
       "      <td>1.0</td>\n",
       "      <td>0.000000</td>\n",
       "      <td>0.292135</td>\n",
       "      <td>good</td>\n",
       "    </tr>\n",
       "    <tr>\n",
       "      <th>2015-01-02</th>\n",
       "      <td>0</td>\n",
       "      <td>0</td>\n",
       "      <td>0</td>\n",
       "      <td>0</td>\n",
       "      <td>1</td>\n",
       "      <td>0</td>\n",
       "      <td>0</td>\n",
       "      <td>1</td>\n",
       "      <td>0</td>\n",
       "      <td>0</td>\n",
       "      <td>...</td>\n",
       "      <td>0</td>\n",
       "      <td>0</td>\n",
       "      <td>0</td>\n",
       "      <td>0</td>\n",
       "      <td>0</td>\n",
       "      <td>0.000000</td>\n",
       "      <td>0.0</td>\n",
       "      <td>0.000000</td>\n",
       "      <td>0.382022</td>\n",
       "      <td>delay</td>\n",
       "    </tr>\n",
       "    <tr>\n",
       "      <th>2015-01-03</th>\n",
       "      <td>0</td>\n",
       "      <td>0</td>\n",
       "      <td>0</td>\n",
       "      <td>0</td>\n",
       "      <td>0</td>\n",
       "      <td>1</td>\n",
       "      <td>0</td>\n",
       "      <td>1</td>\n",
       "      <td>0</td>\n",
       "      <td>0</td>\n",
       "      <td>...</td>\n",
       "      <td>0</td>\n",
       "      <td>0</td>\n",
       "      <td>0</td>\n",
       "      <td>0</td>\n",
       "      <td>0</td>\n",
       "      <td>0.231343</td>\n",
       "      <td>0.0</td>\n",
       "      <td>0.063348</td>\n",
       "      <td>0.314607</td>\n",
       "      <td>good</td>\n",
       "    </tr>\n",
       "    <tr>\n",
       "      <th>2015-01-04</th>\n",
       "      <td>0</td>\n",
       "      <td>0</td>\n",
       "      <td>0</td>\n",
       "      <td>0</td>\n",
       "      <td>0</td>\n",
       "      <td>0</td>\n",
       "      <td>1</td>\n",
       "      <td>1</td>\n",
       "      <td>0</td>\n",
       "      <td>0</td>\n",
       "      <td>...</td>\n",
       "      <td>0</td>\n",
       "      <td>0</td>\n",
       "      <td>0</td>\n",
       "      <td>0</td>\n",
       "      <td>0</td>\n",
       "      <td>0.212687</td>\n",
       "      <td>0.0</td>\n",
       "      <td>0.000000</td>\n",
       "      <td>0.426966</td>\n",
       "      <td>good</td>\n",
       "    </tr>\n",
       "    <tr>\n",
       "      <th>2015-01-05</th>\n",
       "      <td>1</td>\n",
       "      <td>0</td>\n",
       "      <td>0</td>\n",
       "      <td>0</td>\n",
       "      <td>0</td>\n",
       "      <td>0</td>\n",
       "      <td>0</td>\n",
       "      <td>1</td>\n",
       "      <td>0</td>\n",
       "      <td>0</td>\n",
       "      <td>...</td>\n",
       "      <td>0</td>\n",
       "      <td>0</td>\n",
       "      <td>0</td>\n",
       "      <td>0</td>\n",
       "      <td>0</td>\n",
       "      <td>0.000000</td>\n",
       "      <td>0.0</td>\n",
       "      <td>0.000000</td>\n",
       "      <td>0.449438</td>\n",
       "      <td>delay</td>\n",
       "    </tr>\n",
       "  </tbody>\n",
       "</table>\n",
       "<p>5 rows × 24 columns</p>\n",
       "</div>"
      ],
      "text/plain": [
       "            Mon  Tue  Wed  Thu  Fri  Sat  Sun  Jan  Feb  Mar  ...  Aug  Sep  \\\n",
       "date                                                          ...             \n",
       "2015-01-01    0    0    0    1    0    0    0    1    0    0  ...    0    0   \n",
       "2015-01-02    0    0    0    0    1    0    0    1    0    0  ...    0    0   \n",
       "2015-01-03    0    0    0    0    0    1    0    1    0    0  ...    0    0   \n",
       "2015-01-04    0    0    0    0    0    0    1    1    0    0  ...    0    0   \n",
       "2015-01-05    1    0    0    0    0    0    0    1    0    0  ...    0    0   \n",
       "\n",
       "            Oct  Nov  Dec      PRCP  HOLIDAY      SNOW      TAVG  performance  \n",
       "date                                                                           \n",
       "2015-01-01    0    0    0  0.000000      1.0  0.000000  0.292135         good  \n",
       "2015-01-02    0    0    0  0.000000      0.0  0.000000  0.382022        delay  \n",
       "2015-01-03    0    0    0  0.231343      0.0  0.063348  0.314607         good  \n",
       "2015-01-04    0    0    0  0.212687      0.0  0.000000  0.426966         good  \n",
       "2015-01-05    0    0    0  0.000000      0.0  0.000000  0.449438        delay  \n",
       "\n",
       "[5 rows x 24 columns]"
      ]
     },
     "execution_count": 37,
     "metadata": {},
     "output_type": "execute_result"
    }
   ],
   "source": [
    "# Data Normalization, only used for draw figures, not for PCA\n",
    "min_max_scaler = preprocessing.MinMaxScaler()\n",
    "\n",
    "pca_normalization = pca_data.copy()\n",
    "\n",
    "pca_normalization['PRCP'] = min_max_scaler.fit_transform(pca_normalization[['PRCP']])\n",
    "pca_normalization['TAVG'] = min_max_scaler.fit_transform(pca_normalization[['TAVG']])\n",
    "pca_normalization['SNOW'] = min_max_scaler.fit_transform(pca_normalization[['SNOW']])\n",
    "\n",
    "pca_normalization.head()"
   ]
  },
  {
   "cell_type": "code",
   "execution_count": 38,
   "metadata": {
    "scrolled": true
   },
   "outputs": [
    {
     "data": {
      "text/html": [
       "<div>\n",
       "<style scoped>\n",
       "    .dataframe tbody tr th:only-of-type {\n",
       "        vertical-align: middle;\n",
       "    }\n",
       "\n",
       "    .dataframe tbody tr th {\n",
       "        vertical-align: top;\n",
       "    }\n",
       "\n",
       "    .dataframe thead th {\n",
       "        text-align: right;\n",
       "    }\n",
       "</style>\n",
       "<table border=\"1\" class=\"dataframe\">\n",
       "  <thead>\n",
       "    <tr style=\"text-align: right;\">\n",
       "      <th></th>\n",
       "      <th>Mon</th>\n",
       "      <th>Tue</th>\n",
       "      <th>Wed</th>\n",
       "      <th>Thu</th>\n",
       "      <th>Fri</th>\n",
       "      <th>Sat</th>\n",
       "      <th>Sun</th>\n",
       "      <th>Jan</th>\n",
       "      <th>Feb</th>\n",
       "      <th>Mar</th>\n",
       "      <th>...</th>\n",
       "      <th>Jun</th>\n",
       "      <th>Jul</th>\n",
       "      <th>Aug</th>\n",
       "      <th>Sep</th>\n",
       "      <th>Oct</th>\n",
       "      <th>Nov</th>\n",
       "      <th>Dec</th>\n",
       "      <th>performance</th>\n",
       "      <th>attribute</th>\n",
       "      <th>value</th>\n",
       "    </tr>\n",
       "  </thead>\n",
       "  <tbody>\n",
       "    <tr>\n",
       "      <th>0</th>\n",
       "      <td>0</td>\n",
       "      <td>0</td>\n",
       "      <td>0</td>\n",
       "      <td>1</td>\n",
       "      <td>0</td>\n",
       "      <td>0</td>\n",
       "      <td>0</td>\n",
       "      <td>1</td>\n",
       "      <td>0</td>\n",
       "      <td>0</td>\n",
       "      <td>...</td>\n",
       "      <td>0</td>\n",
       "      <td>0</td>\n",
       "      <td>0</td>\n",
       "      <td>0</td>\n",
       "      <td>0</td>\n",
       "      <td>0</td>\n",
       "      <td>0</td>\n",
       "      <td>good</td>\n",
       "      <td>PRCP</td>\n",
       "      <td>0.000000</td>\n",
       "    </tr>\n",
       "    <tr>\n",
       "      <th>1</th>\n",
       "      <td>0</td>\n",
       "      <td>0</td>\n",
       "      <td>0</td>\n",
       "      <td>0</td>\n",
       "      <td>1</td>\n",
       "      <td>0</td>\n",
       "      <td>0</td>\n",
       "      <td>1</td>\n",
       "      <td>0</td>\n",
       "      <td>0</td>\n",
       "      <td>...</td>\n",
       "      <td>0</td>\n",
       "      <td>0</td>\n",
       "      <td>0</td>\n",
       "      <td>0</td>\n",
       "      <td>0</td>\n",
       "      <td>0</td>\n",
       "      <td>0</td>\n",
       "      <td>delay</td>\n",
       "      <td>PRCP</td>\n",
       "      <td>0.000000</td>\n",
       "    </tr>\n",
       "    <tr>\n",
       "      <th>2</th>\n",
       "      <td>0</td>\n",
       "      <td>0</td>\n",
       "      <td>0</td>\n",
       "      <td>0</td>\n",
       "      <td>0</td>\n",
       "      <td>1</td>\n",
       "      <td>0</td>\n",
       "      <td>1</td>\n",
       "      <td>0</td>\n",
       "      <td>0</td>\n",
       "      <td>...</td>\n",
       "      <td>0</td>\n",
       "      <td>0</td>\n",
       "      <td>0</td>\n",
       "      <td>0</td>\n",
       "      <td>0</td>\n",
       "      <td>0</td>\n",
       "      <td>0</td>\n",
       "      <td>good</td>\n",
       "      <td>PRCP</td>\n",
       "      <td>0.231343</td>\n",
       "    </tr>\n",
       "    <tr>\n",
       "      <th>3</th>\n",
       "      <td>0</td>\n",
       "      <td>0</td>\n",
       "      <td>0</td>\n",
       "      <td>0</td>\n",
       "      <td>0</td>\n",
       "      <td>0</td>\n",
       "      <td>1</td>\n",
       "      <td>1</td>\n",
       "      <td>0</td>\n",
       "      <td>0</td>\n",
       "      <td>...</td>\n",
       "      <td>0</td>\n",
       "      <td>0</td>\n",
       "      <td>0</td>\n",
       "      <td>0</td>\n",
       "      <td>0</td>\n",
       "      <td>0</td>\n",
       "      <td>0</td>\n",
       "      <td>good</td>\n",
       "      <td>PRCP</td>\n",
       "      <td>0.212687</td>\n",
       "    </tr>\n",
       "    <tr>\n",
       "      <th>4</th>\n",
       "      <td>1</td>\n",
       "      <td>0</td>\n",
       "      <td>0</td>\n",
       "      <td>0</td>\n",
       "      <td>0</td>\n",
       "      <td>0</td>\n",
       "      <td>0</td>\n",
       "      <td>1</td>\n",
       "      <td>0</td>\n",
       "      <td>0</td>\n",
       "      <td>...</td>\n",
       "      <td>0</td>\n",
       "      <td>0</td>\n",
       "      <td>0</td>\n",
       "      <td>0</td>\n",
       "      <td>0</td>\n",
       "      <td>0</td>\n",
       "      <td>0</td>\n",
       "      <td>delay</td>\n",
       "      <td>PRCP</td>\n",
       "      <td>0.000000</td>\n",
       "    </tr>\n",
       "  </tbody>\n",
       "</table>\n",
       "<p>5 rows × 22 columns</p>\n",
       "</div>"
      ],
      "text/plain": [
       "   Mon  Tue  Wed  Thu  Fri  Sat  Sun  Jan  Feb  Mar  ...  Jun  Jul  Aug  Sep  \\\n",
       "0    0    0    0    1    0    0    0    1    0    0  ...    0    0    0    0   \n",
       "1    0    0    0    0    1    0    0    1    0    0  ...    0    0    0    0   \n",
       "2    0    0    0    0    0    1    0    1    0    0  ...    0    0    0    0   \n",
       "3    0    0    0    0    0    0    1    1    0    0  ...    0    0    0    0   \n",
       "4    1    0    0    0    0    0    0    1    0    0  ...    0    0    0    0   \n",
       "\n",
       "   Oct  Nov  Dec  performance  attribute     value  \n",
       "0    0    0    0         good       PRCP  0.000000  \n",
       "1    0    0    0        delay       PRCP  0.000000  \n",
       "2    0    0    0         good       PRCP  0.231343  \n",
       "3    0    0    0         good       PRCP  0.212687  \n",
       "4    0    0    0        delay       PRCP  0.000000  \n",
       "\n",
       "[5 rows x 22 columns]"
      ]
     },
     "execution_count": 38,
     "metadata": {},
     "output_type": "execute_result"
    }
   ],
   "source": [
    "# rebuild the dataframe\n",
    "pca = pd.melt(pca_normalization, id_vars=['Mon','Tue','Wed','Thu','Fri','Sat','Sun','Jan','Feb','Mar','Apr','May','Jun','Jul','Aug','Sep','Oct','Nov','Dec','performance'], var_name='attribute', value_name='value')\n",
    "pca.head()"
   ]
  },
  {
   "cell_type": "code",
   "execution_count": 39,
   "metadata": {},
   "outputs": [
    {
     "data": {
      "image/png": "[encoded data removed]",
      "text/plain": [
       "<Figure size 1440x720 with 4 Axes>"
      ]
     },
     "metadata": {
      "needs_background": "light"
     },
     "output_type": "display_data"
    }
   ],
   "source": [
    "# Show every attributes' relational figures\n",
    "sns.catplot(x=\"performance\", y=\"value\", hue=\"performance\", height=10, aspect=0.5,\n",
    "                 col=\"attribute\", data=pca);\n",
    "\n",
    "'''\n",
    "After data normalization, the figures show relation with different features.\n",
    "Rain, Snow, Average Temperature really reflect the change of bus performance.\n",
    "'''"
   ]
  },
  {
   "cell_type": "code",
   "execution_count": 40,
   "metadata": {
    "scrolled": true
   },
   "outputs": [
    {
     "data": {
      "text/plain": [
       "array([[ 0. ,  0. ,  0. , ...,  1. ,  0. , 26. ],\n",
       "       [ 0. ,  0. ,  0. , ...,  0. ,  0. , 34. ],\n",
       "       [ 0. ,  0. ,  0. , ...,  0. ,  1.4, 28. ],\n",
       "       ...,\n",
       "       [ 0. ,  0. ,  0. , ...,  0. ,  0. , 49. ],\n",
       "       [ 0. ,  0. ,  0. , ...,  0. ,  0. , 32. ],\n",
       "       [ 1. ,  0. ,  0. , ...,  0. ,  0. , 36. ]])"
      ]
     },
     "execution_count": 40,
     "metadata": {},
     "output_type": "execute_result"
    }
   ],
   "source": [
    "# input value for PCA\n",
    "x = np.array(pca_data[['Mon','Tue','Wed','Thu','Fri','Sat','Sun','Jan','Feb','Mar','Apr','May','Jun','Jul','Aug','Sep','Oct','Nov','Dec','PRCP','HOLIDAY','SNOW','TAVG']])\n",
    "x"
   ]
  },
  {
   "cell_type": "code",
   "execution_count": 41,
   "metadata": {
    "scrolled": true
   },
   "outputs": [
    {
     "data": {
      "text/plain": [
       "array([['good'],\n",
       "       ['delay'],\n",
       "       ['good'],\n",
       "       ...,\n",
       "       ['good'],\n",
       "       ['good'],\n",
       "       ['delay']], dtype=object)"
      ]
     },
     "execution_count": 41,
     "metadata": {},
     "output_type": "execute_result"
    }
   ],
   "source": [
    "# target value for PCA\n",
    "y = np.array(pca_data[['performance']])\n",
    "y"
   ]
  },
  {
   "cell_type": "code",
   "execution_count": 42,
   "metadata": {},
   "outputs": [
    {
     "data": {
      "text/plain": [
       "array([[26.45467932, -0.5154102 ,  0.06207709, -0.6074949 ],\n",
       "       [18.4562259 , -0.42229266,  0.07889616,  0.38283294],\n",
       "       [24.4747129 ,  0.95239933, -0.2015191 , -0.36769772],\n",
       "       ...,\n",
       "       [ 3.45790039, -0.22946937, -0.17564354, -0.43944274],\n",
       "       [20.45434469, -0.47007726, -0.10646694, -0.08733709],\n",
       "       [16.45549588, -0.36549084,  0.81061639,  0.14426714]])"
      ]
     },
     "execution_count": 42,
     "metadata": {},
     "output_type": "execute_result"
    }
   ],
   "source": [
    "# Set up component number\n",
    "pca = PCA(n_components=4)\n",
    "\n",
    "# fit input value\n",
    "x_r = pca.fit(x).transform(x)\n",
    "x_r"
   ]
  },
  {
   "cell_type": "code",
   "execution_count": 43,
   "metadata": {
    "scrolled": true
   },
   "outputs": [
    {
     "data": {
      "text/plain": [
       "array([[ 1.12773616e-01, -2.06479599e-01,  1.12423445e-01,\n",
       "         5.00668955e-01, -8.63059387e-02,  3.88237269e-01,\n",
       "         1.78682253e-01,  2.39688115e-01,  1.92044837e-01,\n",
       "         1.96372110e-01,  1.28251133e-01,  2.57532160e-02,\n",
       "        -1.76962432e-02, -8.15191756e-02, -7.95049060e-02,\n",
       "        -1.99276652e-02,  6.21936577e-02,  1.34785355e-01,\n",
       "         2.19559566e-01,  3.01622559e-02,  2.81672431e-02,\n",
       "         9.97203764e-03,  2.59997669e+01],\n",
       "       [ 2.64867939e-01,  3.01668263e-01,  1.34711862e-01,\n",
       "        -1.05011254e-01,  3.02085475e-01, -1.96827392e-02,\n",
       "         1.21360453e-01,  1.93123382e-01,  1.59451377e-01,\n",
       "         1.65320426e-01,  1.05103181e-01,  6.47124179e-02,\n",
       "         7.22090675e-03, -2.66392718e-02, -2.95495887e-02,\n",
       "         3.32966382e-03,  7.08747973e-02,  1.27111158e-01,\n",
       "         1.59941550e-01,  1.20773898e-01,  4.24117151e-02,\n",
       "        -1.11606537e-02,  3.39979085e+01]])"
      ]
     },
     "execution_count": 43,
     "metadata": {},
     "output_type": "execute_result"
    }
   ],
   "source": [
    "pca.inverse_transform(x_r)[0:2]"
   ]
  },
  {
   "cell_type": "code",
   "execution_count": 44,
   "metadata": {
    "scrolled": false
   },
   "outputs": [
    {
     "data": {
      "text/plain": [
       "PRCP       0.990081\n",
       "HOLIDAY    0.004179\n",
       "SNOW       0.000459\n",
       "TAVG       0.000457\n",
       "dtype: float64"
      ]
     },
     "execution_count": 44,
     "metadata": {},
     "output_type": "execute_result"
    }
   ],
   "source": [
    "ratio = pd.Series(pca.explained_variance_ratio_, index=['PRCP', 'HOLIDAY', 'SNOW', 'TAVG'])\n",
    "ratio\n",
    "\n",
    "'''\n",
    "Rain Precipitation\n",
    "'''"
   ]
  },
  {
   "cell_type": "markdown",
   "metadata": {},
   "source": [
    "#### Classification: Naive Bayes / Decision Trees / Support Vector"
   ]
  },
  {
   "cell_type": "code",
   "execution_count": 45,
   "metadata": {},
   "outputs": [],
   "source": [
    "# split train and test data set\n",
    "X_train, X_test, Y_train, Y_test = train_test_split(x, y, test_size=0.2, random_state=42)"
   ]
  },
  {
   "cell_type": "code",
   "execution_count": 46,
   "metadata": {},
   "outputs": [],
   "source": [
    "pipe_nb = Pipeline([('scl', StandardScaler()),\n",
    "                    ('pca', PCA(n_components=4)),\n",
    "                    ('clf', GaussianNB())])\n",
    "\n",
    "pipe_svm = Pipeline([('scl', StandardScaler()),\n",
    "                     ('pca', PCA(n_components=4)),\n",
    "                     ('clf', SVC(gamma='auto', random_state=42))])\n",
    "\n",
    "pipe_dt = Pipeline([('scl', StandardScaler()),\n",
    "                    ('pca', PCA(n_components=4)),\n",
    "                    ('clf', DecisionTreeClassifier(random_state=42))])"
   ]
  },
  {
   "cell_type": "code",
   "execution_count": 47,
   "metadata": {},
   "outputs": [
    {
     "name": "stderr",
     "output_type": "stream",
     "text": [
      "/Library/Frameworks/Python.framework/Versions/3.7/lib/python3.7/site-packages/sklearn/utils/validation.py:761: DataConversionWarning: A column-vector y was passed when a 1d array was expected. Please change the shape of y to (n_samples, ), for example using ravel().\n",
      "  y = column_or_1d(y, warn=True)\n",
      "/Library/Frameworks/Python.framework/Versions/3.7/lib/python3.7/site-packages/sklearn/utils/validation.py:761: DataConversionWarning: A column-vector y was passed when a 1d array was expected. Please change the shape of y to (n_samples, ), for example using ravel().\n",
      "  y = column_or_1d(y, warn=True)\n"
     ]
    }
   ],
   "source": [
    "# List of pipelines for ease of iteration\n",
    "pipelines = [pipe_nb, pipe_svm, pipe_dt]\n",
    "\n",
    "# Dictionary of pipelines and classifier types for ease of reference\n",
    "pipe_dict = {0: 'Gaussian Naive Bayes', 1: 'Support Vector Machine', 2: 'Decision Tree'}\n",
    "\n",
    "# Fit the pipelines\n",
    "for pipe in pipelines:\n",
    "    pipe.fit(X_train, Y_train)"
   ]
  },
  {
   "cell_type": "code",
   "execution_count": 48,
   "metadata": {
    "scrolled": true
   },
   "outputs": [
    {
     "name": "stdout",
     "output_type": "stream",
     "text": [
      "Gaussian Naive Bayes pipeline test accuracy: 0.788\n",
      "Support Vector Machine pipeline test accuracy: 0.788\n",
      "Decision Tree pipeline test accuracy: 0.740\n",
      "Classifier with best accuracy: Gaussian Naive Bayes\n"
     ]
    }
   ],
   "source": [
    "# Compare accuracies\n",
    "for idx, val in enumerate(pipelines):\n",
    "    print('{} pipeline test accuracy: {:.3f}'.format(\n",
    "        pipe_dict[idx], val.score(X_test, Y_test)))\n",
    "\n",
    "# Identify the most accurate model on test data\n",
    "best_acc = 0.0\n",
    "best_clf = 0\n",
    "best_pipe = ''\n",
    "\n",
    "for idx, val in enumerate(pipelines):\n",
    "    if val.score(X_test, Y_test) > best_acc:\n",
    "        best_acc = val.score(X_test, Y_test)\n",
    "        best_pipe = val\n",
    "        best_clf = idx\n",
    "\n",
    "print('Classifier with best accuracy: {}'.format(pipe_dict[best_clf]))"
   ]
  },
  {
   "cell_type": "code",
   "execution_count": 49,
   "metadata": {},
   "outputs": [
    {
     "data": {
      "text/plain": [
       "<matplotlib.axes._subplots.AxesSubplot at 0x121cf24a8>"
      ]
     },
     "execution_count": 49,
     "metadata": {},
     "output_type": "execute_result"
    },
    {
     "data": {
      "image/png": "[encoded data removed]",
      "text/plain": [
       "<Figure size 432x288 with 1 Axes>"
      ]
     },
     "metadata": {
      "needs_background": "light"
     },
     "output_type": "display_data"
    }
   ],
   "source": [
    "sns.heatmap(metrics.confusion_matrix(Y_test, pipelines[0].predict(X_test)).T, \n",
    "            square=True, annot=True, fmt='d', cbar=False,\n",
    "            xticklabels=['bad','delay','good'],\n",
    "            yticklabels=['bad','delay','good'])"
   ]
  },
  {
   "cell_type": "code",
   "execution_count": 50,
   "metadata": {},
   "outputs": [
    {
     "data": {
      "text/plain": [
       "<matplotlib.axes._subplots.AxesSubplot at 0x121d678d0>"
      ]
     },
     "execution_count": 50,
     "metadata": {},
     "output_type": "execute_result"
    },
    {
     "data": {
      "image/png": "[encoded data removed]",
      "text/plain": [
       "<Figure size 432x288 with 1 Axes>"
      ]
     },
     "metadata": {
      "needs_background": "light"
     },
     "output_type": "display_data"
    }
   ],
   "source": [
    "sns.heatmap(metrics.confusion_matrix(Y_test, pipelines[1].predict(X_test)).T, \n",
    "            square=True, annot=True, fmt='d', cbar=False,\n",
    "            xticklabels=['bad','delay','good'],\n",
    "            yticklabels=['bad','delay','good'])"
   ]
  },
  {
   "cell_type": "code",
   "execution_count": 51,
   "metadata": {
    "scrolled": true
   },
   "outputs": [
    {
     "data": {
      "text/plain": [
       "<matplotlib.axes._subplots.AxesSubplot at 0x1224c39b0>"
      ]
     },
     "execution_count": 51,
     "metadata": {},
     "output_type": "execute_result"
    },
    {
     "data": {
      "image/png": "[encoded data removed]",
      "text/plain": [
       "<Figure size 432x288 with 1 Axes>"
      ]
     },
     "metadata": {
      "needs_background": "light"
     },
     "output_type": "display_data"
    }
   ],
   "source": [
    "sns.heatmap(metrics.confusion_matrix(Y_test, pipelines[2].predict(X_test)).T, \n",
    "            square=True, annot=True, fmt='d', cbar=False,\n",
    "            xticklabels=['bad','delay','good'],\n",
    "            yticklabels=['bad','delay','good'])"
   ]
  },
  {
   "cell_type": "markdown",
   "metadata": {},
   "source": [
    "#### Clustering"
   ]
  },
  {
   "cell_type": "code",
   "execution_count": 52,
   "metadata": {},
   "outputs": [
    {
     "data": {
      "text/html": [
       "<div>\n",
       "<style scoped>\n",
       "    .dataframe tbody tr th:only-of-type {\n",
       "        vertical-align: middle;\n",
       "    }\n",
       "\n",
       "    .dataframe tbody tr th {\n",
       "        vertical-align: top;\n",
       "    }\n",
       "\n",
       "    .dataframe thead th {\n",
       "        text-align: right;\n",
       "    }\n",
       "</style>\n",
       "<table border=\"1\" class=\"dataframe\">\n",
       "  <thead>\n",
       "    <tr style=\"text-align: right;\">\n",
       "      <th></th>\n",
       "      <th>Gender</th>\n",
       "      <th>Age</th>\n",
       "      <th>Annual Income (k$)</th>\n",
       "      <th>Spending Score (1-100)</th>\n",
       "    </tr>\n",
       "    <tr>\n",
       "      <th>CustomerID</th>\n",
       "      <th></th>\n",
       "      <th></th>\n",
       "      <th></th>\n",
       "      <th></th>\n",
       "    </tr>\n",
       "  </thead>\n",
       "  <tbody>\n",
       "    <tr>\n",
       "      <th>1</th>\n",
       "      <td>Male</td>\n",
       "      <td>19</td>\n",
       "      <td>15</td>\n",
       "      <td>39</td>\n",
       "    </tr>\n",
       "    <tr>\n",
       "      <th>2</th>\n",
       "      <td>Male</td>\n",
       "      <td>21</td>\n",
       "      <td>15</td>\n",
       "      <td>81</td>\n",
       "    </tr>\n",
       "    <tr>\n",
       "      <th>3</th>\n",
       "      <td>Female</td>\n",
       "      <td>20</td>\n",
       "      <td>16</td>\n",
       "      <td>6</td>\n",
       "    </tr>\n",
       "    <tr>\n",
       "      <th>4</th>\n",
       "      <td>Female</td>\n",
       "      <td>23</td>\n",
       "      <td>16</td>\n",
       "      <td>77</td>\n",
       "    </tr>\n",
       "    <tr>\n",
       "      <th>5</th>\n",
       "      <td>Female</td>\n",
       "      <td>31</td>\n",
       "      <td>17</td>\n",
       "      <td>40</td>\n",
       "    </tr>\n",
       "  </tbody>\n",
       "</table>\n",
       "</div>"
      ],
      "text/plain": [
       "            Gender  Age  Annual Income (k$)  Spending Score (1-100)\n",
       "CustomerID                                                         \n",
       "1             Male   19                  15                      39\n",
       "2             Male   21                  15                      81\n",
       "3           Female   20                  16                       6\n",
       "4           Female   23                  16                      77\n",
       "5           Female   31                  17                      40"
      ]
     },
     "execution_count": 52,
     "metadata": {},
     "output_type": "execute_result"
    }
   ],
   "source": [
    "# Using other data set to do clustering\n",
    "clustering_data = pd.read_csv(file_path + 'clustering/Mall_Customers.csv', index_col='CustomerID')\n",
    "clustering_data.head()"
   ]
  },
  {
   "cell_type": "code",
   "execution_count": 53,
   "metadata": {
    "scrolled": false
   },
   "outputs": [
    {
     "data": {
      "text/plain": [
       "array([[15, 39],\n",
       "       [15, 81],\n",
       "       [16,  6],\n",
       "       [16, 77],\n",
       "       [17, 40]])"
      ]
     },
     "execution_count": 53,
     "metadata": {},
     "output_type": "execute_result"
    }
   ],
   "source": [
    "# Select Annual Income to cluster\n",
    "x = np.array(clustering_data[['Annual Income (k$)', 'Spending Score (1-100)']])\n",
    "x[:5]"
   ]
  },
  {
   "cell_type": "code",
   "execution_count": 54,
   "metadata": {},
   "outputs": [
    {
     "data": {
      "text/plain": [
       "KMeans(algorithm='auto', copy_x=True, init='k-means++', max_iter=300,\n",
       "    n_clusters=5, n_init=10, n_jobs=None, precompute_distances='auto',\n",
       "    random_state=0, tol=0.0001, verbose=0)"
      ]
     },
     "execution_count": 54,
     "metadata": {},
     "output_type": "execute_result"
    }
   ],
   "source": [
    "# Using Kmeans, cluster number = 5\n",
    "kmeans = KMeans(n_clusters=5, random_state=0)\n",
    "kmeans.fit(x)"
   ]
  },
  {
   "cell_type": "code",
   "execution_count": 55,
   "metadata": {},
   "outputs": [
    {
     "name": "stdout",
     "output_type": "stream",
     "text": [
      "[4 3 4 3 4 3 4 3 4 3 4 3 4 3 4 3 4 3 4 3 4 3 4 3 4 3 4 3 4 3 4 3 4 3 4 3 4\n",
      " 3 4 3 4 3 4 1 4 3 1 1 1 1 1 1 1 1 1 1 1 1 1 1 1 1 1 1 1 1 1 1 1 1 1 1 1 1\n",
      " 1 1 1 1 1 1 1 1 1 1 1 1 1 1 1 1 1 1 1 1 1 1 1 1 1 1 1 1 1 1 1 1 1 1 1 1 1\n",
      " 1 1 1 1 1 1 1 1 1 1 1 1 2 0 2 1 2 0 2 0 2 1 2 0 2 0 2 0 2 0 2 1 2 0 2 0 2\n",
      " 0 2 0 2 0 2 0 2 0 2 0 2 0 2 0 2 0 2 0 2 0 2 0 2 0 2 0 2 0 2 0 2 0 2 0 2 0\n",
      " 2 0 2 0 2 0 2 0 2 0 2 0 2 0 2]\n"
     ]
    }
   ],
   "source": [
    "print(kmeans.labels_)"
   ]
  },
  {
   "cell_type": "code",
   "execution_count": 56,
   "metadata": {},
   "outputs": [
    {
     "name": "stdout",
     "output_type": "stream",
     "text": [
      "[[88.2        17.11428571]\n",
      " [55.2962963  49.51851852]\n",
      " [86.53846154 82.12820513]\n",
      " [25.72727273 79.36363636]\n",
      " [26.30434783 20.91304348]]\n"
     ]
    }
   ],
   "source": [
    "# Print center point\n",
    "centers = kmeans.cluster_centers_\n",
    "print(centers)"
   ]
  },
  {
   "cell_type": "code",
   "execution_count": 57,
   "metadata": {
    "scrolled": true
   },
   "outputs": [
    {
     "data": {
      "image/png": "[encoded data removed]",
      "text/plain": [
       "<Figure size 432x288 with 1 Axes>"
      ]
     },
     "metadata": {
      "needs_background": "light"
     },
     "output_type": "display_data"
    }
   ],
   "source": [
    "'''\n",
    "Annual income has strong relation with spending score.\n",
    "low income, high income person both have two conditions: low score and high are average\n",
    "But for medium income person, they almost have medium spending score \n",
    "'''\n",
    "plt.scatter(x[:, 0], x[:, 1], c=kmeans.labels_, s=32, cmap=\"viridis\")\n",
    "plt.scatter(centers[:, 0], centers[:, 1], c='red', s=128, alpha=0.4);\n",
    "plt.xlabel('Annual Income (k$)')\n",
    "plt.ylabel('Spending Score (1-100)');"
   ]
  },
  {
   "cell_type": "code",
   "execution_count": 58,
   "metadata": {
    "scrolled": false
   },
   "outputs": [
    {
     "data": {
      "text/plain": [
       "array([[19, 39],\n",
       "       [21, 81],\n",
       "       [20,  6],\n",
       "       [23, 77],\n",
       "       [31, 40]])"
      ]
     },
     "execution_count": 58,
     "metadata": {},
     "output_type": "execute_result"
    }
   ],
   "source": [
    "# Select age to cluster\n",
    "x = np.array(clustering_data[['Age', 'Spending Score (1-100)']])\n",
    "x[:5]"
   ]
  },
  {
   "cell_type": "code",
   "execution_count": 59,
   "metadata": {},
   "outputs": [
    {
     "data": {
      "text/plain": [
       "KMeans(algorithm='auto', copy_x=True, init='k-means++', max_iter=300,\n",
       "    n_clusters=2, n_init=10, n_jobs=None, precompute_distances='auto',\n",
       "    random_state=0, tol=0.0001, verbose=0)"
      ]
     },
     "execution_count": 59,
     "metadata": {},
     "output_type": "execute_result"
    }
   ],
   "source": [
    "# Using Kmeans, cluster number = 2\n",
    "kmeans = KMeans(n_clusters=2, random_state=0)\n",
    "kmeans.fit(x)"
   ]
  },
  {
   "cell_type": "code",
   "execution_count": 60,
   "metadata": {},
   "outputs": [
    {
     "name": "stdout",
     "output_type": "stream",
     "text": [
      "[0 1 0 1 0 1 0 1 0 1 0 1 0 1 0 1 0 1 0 1 0 1 0 1 0 1 0 1 0 1 0 1 0 1 0 1 0\n",
      " 1 0 1 0 1 0 1 0 1 0 0 0 0 0 1 1 0 0 0 0 0 1 0 0 1 0 0 0 1 0 0 1 0 0 0 0 0\n",
      " 0 1 0 0 1 0 0 1 0 0 1 0 0 1 1 0 0 0 0 0 0 1 0 1 0 1 0 0 0 1 0 0 0 0 0 0 0\n",
      " 1 0 1 1 1 0 1 0 0 1 0 1 1 0 1 0 1 0 1 0 1 0 1 0 1 0 1 0 1 0 1 0 1 0 1 0 1\n",
      " 0 1 0 1 0 1 0 1 0 1 0 1 0 1 0 1 0 1 0 1 0 1 0 1 0 1 0 1 0 1 0 1 0 1 0 1 0\n",
      " 1 0 1 0 1 0 1 0 1 0 1 0 1 0 1]\n"
     ]
    }
   ],
   "source": [
    "print(kmeans.labels_)"
   ]
  },
  {
   "cell_type": "code",
   "execution_count": 61,
   "metadata": {},
   "outputs": [
    {
     "name": "stdout",
     "output_type": "stream",
     "text": [
      "[[46.16521739 32.88695652]\n",
      " [28.95294118 73.62352941]]\n"
     ]
    }
   ],
   "source": [
    "# Print center point\n",
    "centers = kmeans.cluster_centers_\n",
    "print(centers)"
   ]
  },
  {
   "cell_type": "code",
   "execution_count": 62,
   "metadata": {},
   "outputs": [
    {
     "data": {
      "image/png": "[encoded data removed]",
      "text/plain": [
       "<Figure size 432x288 with 1 Axes>"
      ]
     },
     "metadata": {
      "needs_background": "light"
     },
     "output_type": "display_data"
    }
   ],
   "source": [
    "'''\n",
    "Younge person has high spending score.\n",
    "The older person has medium or low score\n",
    "'''\n",
    "plt.scatter(x[:, 0], x[:, 1], c=kmeans.labels_, s=32, cmap=\"viridis\")\n",
    "plt.scatter(centers[:, 0], centers[:, 1], c='red', s=128, alpha=0.4);\n",
    "plt.xlabel('Age')\n",
    "plt.ylabel('Spending Score (1-100)');"
   ]
  },
  {
   "cell_type": "code",
   "execution_count": null,
   "metadata": {},
   "outputs": [],
   "source": []
  }
 ],
 "metadata": {
  "kernelspec": {
   "display_name": "Python 3",
   "language": "python",
   "name": "python3"
  },
  "language_info": {
   "codemirror_mode": {
    "name": "ipython",
    "version": 3
   },
   "file_extension": ".py",
   "mimetype": "text/x-python",
   "name": "python",
   "nbconvert_exporter": "python",
   "pygments_lexer": "ipython3",
   "version": "3.7.2"
  }
 },
 "nbformat": 4,
 "nbformat_minor": 2
}
